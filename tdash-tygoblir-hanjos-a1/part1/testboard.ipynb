{
 "metadata": {
  "language_info": {
   "codemirror_mode": {
    "name": "ipython",
    "version": 3
   },
   "file_extension": ".py",
   "mimetype": "text/x-python",
   "name": "python",
   "nbconvert_exporter": "python",
   "pygments_lexer": "ipython3",
   "version": "3.8.5-final"
  },
  "orig_nbformat": 2,
  "kernelspec": {
   "name": "Python 3.8.5 64-bit",
   "display_name": "Python 3.8.5 64-bit",
   "metadata": {
    "interpreter": {
     "hash": "4fedbdb6e668446f3c96061a3e0973608a7182bb8999eeda9ee69679a98fef9b"
    }
   }
  }
 },
 "nbformat": 4,
 "nbformat_minor": 2,
 "cells": [
  {
   "cell_type": "code",
   "execution_count": 4,
   "metadata": {},
   "outputs": [],
   "source": [
    "#!/usr/local/bin/python3\n",
    "# solver20.py : 2020 Sliding tile puzzle solver\n",
    "#\n",
    "# Code by: Josep Han (hanjos), Tarini Dash (tdash)\n",
    "#\n",
    "# Based on skeleton code by D. Crandall, September 2020\n",
    "#\n",
    "from queue import PriorityQueue\n",
    "import sys\n",
    "\n",
    "MOVES = { \"R\": (0, -1), \"L\": (0, 1), \"D\": (-1, 0), \"U\": (1,0) }\n",
    "ROWS = 4\n",
    "COLS = 5\n",
    "\n",
    "def valid_index(row, col):\n",
    "    return 0 <= row < ROWS and 0 <= col < COLS\n",
    "\n",
    "# shift a specified row left (1) or right (-1)\n",
    "def shift_row(state, row, dir):\n",
    "    change_row = state[(row*COLS):(row*COLS+COLS)]\n",
    "    return ( state[:(row*COLS)] + change_row[-dir:] + change_row[:-dir] + state[(row*COLS+COLS):], (\"L\" if dir == -1 else \"R\") + str(row+1) )\n",
    "\n",
    "# shift a specified col up (1) or down (-1)\n",
    "def shift_col(state, col, dir):\n",
    "    change_col = state[col::COLS]\n",
    "    s = list(state)\n",
    "    s[col::COLS] = change_col[-dir:] + change_col[:-dir]\n",
    "    return (tuple(s), (\"U\" if dir == -1 else \"D\") + str(col+1) )\n",
    "\n",
    "def printable_board(board):\n",
    "    return [ ('%3d ')*COLS  % board[j:(j+COLS)] for j in range(0, ROWS*COLS, COLS) ]\n",
    "\n",
    "# return a list of possible successor states\n",
    "def successors(state):\n",
    "    return [ (shift_row(state, row, dir)) for dir in (-1,1) for row in range(0, ROWS) ] + \\\n",
    "        [ (shift_col(state, col, dir)) for dir in (-1,1) for col in range(0, COLS) ]\n",
    "\n",
    "# check if we've reached the goal\n",
    "def is_goal(state):\n",
    "    return sorted(state[:-1]) == list(state[:-1]) \n",
    "\n",
    "        \n",
    "# The solver! - using BFS right now\n",
    "def solve(initial_board):\n",
    "    fringe = [ (initial_board, []) ]\n",
    "    while len(fringe) > 0:\n",
    "        (state, route_so_far) = fringe.pop()\n",
    "        for (succ, move) in successors( state ):\n",
    "            if is_goal(succ):\n",
    "                return( route_so_far + [move,] )\n",
    "            fringe.insert(0, (succ, route_so_far + [move,] ) )\n",
    "    return False"
   ]
  },
  {
   "cell_type": "code",
   "execution_count": 5,
   "metadata": {
    "tags": []
   },
   "outputs": [
    {
     "output_type": "stream",
     "name": "stdout",
     "text": "hi\n"
    }
   ],
   "source": [
    "print('hi')"
   ]
  },
  {
   "cell_type": "code",
   "execution_count": 6,
   "metadata": {
    "tags": []
   },
   "outputs": [
    {
     "output_type": "stream",
     "name": "stdout",
     "text": "[1, 17, 3, 4, 5, 10, 2, 7, 8, 9, 11, 6, 13, 14, 15, 16, 12, 18, 19, 20]\n"
    }
   ],
   "source": [
    "start_state = []\n",
    "with open('board2', 'r') as file:\n",
    "    for line in file:\n",
    "        start_state += [ int(i) for i in line.split() ]\n",
    "start_state\n",
    "a = successors(start_state)\n",
    "a\n",
    "shift_col(start_state, 0, 5)\n",
    "from pprint import pprint\n",
    "pprint(start_state,)"
   ]
  },
  {
   "cell_type": "code",
   "execution_count": 7,
   "metadata": {},
   "outputs": [
    {
     "output_type": "execute_result",
     "data": {
      "text/plain": "0"
     },
     "metadata": {},
     "execution_count": 7
    }
   ],
   "source": [
    "n = 1\n",
    "x = 4\n",
    "n = n + int(x/2)\n",
    "n = n - (n%x)\n",
    "n"
   ]
  },
  {
   "cell_type": "code",
   "execution_count": 8,
   "metadata": {},
   "outputs": [
    {
     "output_type": "execute_result",
     "data": {
      "text/plain": "[(0, 0),\n (0, 1),\n (0, 2),\n (0, 3),\n (0, 4),\n (1, 0),\n (1, 1),\n (1, 2),\n (1, 3),\n (1, 4),\n (2, 0),\n (2, 1),\n (2, 2),\n (2, 3),\n (2, 4),\n (3, 0),\n (3, 1),\n (3, 2),\n (3, 3),\n (3, 4)]"
     },
     "metadata": {},
     "execution_count": 8
    }
   ],
   "source": [
    "# populate the intended coordinates. this will be used as comparison with the fringe state.\n",
    "intended_coords = []\n",
    "for i in range(20):\n",
    "    r = int(i/5)\n",
    "    c = i - (r * 5)\n",
    "    intended_coords.append((r,c))\n",
    "intended_coords\n",
    "# len(intended_coords)\n",
    "# start_state"
   ]
  },
  {
   "cell_type": "code",
   "execution_count": 9,
   "metadata": {
    "tags": []
   },
   "outputs": [
    {
     "output_type": "stream",
     "name": "stdout",
     "text": "[(0, 0), (3, 1), (0, 2), (0, 3), (0, 4), (1, 4), (0, 1), (1, 1), (1, 2), (1, 3), (2, 0), (1, 0), (2, 2), (2, 3), (2, 4), (3, 0), (2, 1), (3, 2), (3, 3), (3, 4)]\n"
    }
   ],
   "source": [
    "# coordify: list -> list\n",
    "# current state returns just its values. we want to know its original intended values.\n",
    "def coordify(state):\n",
    "    result = []\n",
    "    for item in state:\n",
    "        # board starts with 1 instead of 0, so shift it down.\n",
    "        item -= 1\n",
    "        r = int(item/5)\n",
    "        c = item - (r *5)\n",
    "        result.append((r,c))\n",
    "    return result\n",
    "print(coordify(start_state))\n",
    "# print(coordify(bstate))\n",
    "\n"
   ]
  },
  {
   "cell_type": "code",
   "execution_count": 10,
   "metadata": {
    "tags": []
   },
   "outputs": [
    {
     "output_type": "stream",
     "name": "stdout",
     "text": "1 1 0\n1 2 1\n1 3 2\n1 4 2\n"
    }
   ],
   "source": [
    "# wrapped_distance: number, goal, limit -> (int) minimum distance\n",
    "# a, b wraps the index either over or under its intended limit(depends whether you wanna go by row or column), then checks which way returns the minimum.\n",
    "def wrapped_distance(num, goal, rc):\n",
    "    # num -= 1\n",
    "    a = num + rc\n",
    "    b = num - rc\n",
    "    adist = a - goal\n",
    "    bdist = abs(b -goal )\n",
    "    cdist = abs(num - goal )\n",
    "    return min([adist,bdist,cdist]) \n",
    "for i in range(1,5):\n",
    "    print(1, i,wrapped_distance(1,i, 5))"
   ]
  },
  {
   "cell_type": "code",
   "execution_count": 33,
   "metadata": {
    "tags": []
   },
   "outputs": [
    {
     "output_type": "stream",
     "name": "stdout",
     "text": "4 5\n2.0\n0 6\n1.2\n"
    }
   ],
   "source": [
    "# raw number -> pair of row,column coordinates.\n",
    "def coordify2(num):\n",
    "    r = int(num/5)\n",
    "    c = num - (r *5)\n",
    "    # result.append((r,c))\n",
    "    return (r,c)\n",
    "# given a list of unorganized tiles, returns a list of modified manhattan distance\n",
    "# where it includes instance of wrap around. \n",
    "def wrapped_distance_full(state):\n",
    "    result = []\n",
    "    rowsum,colsum =(0,0)\n",
    "    totsum = 0\n",
    "    for i in range(len(state)):\n",
    "        it = state[i]\n",
    "        # print(item)\n",
    "        # print(i+1, it, coordify2(i),coordify2(it - 1))\n",
    "        val = coordify2(it - 1)\n",
    "        goal = coordify2(i)\n",
    "        row_dist = wrapped_distance(val[0],goal[0], 4)\n",
    "        col_dist = wrapped_distance(val[1],goal[1], 5)\n",
    "        # print(i,row_dist,col_dist)\n",
    "        rowsum += row_dist\n",
    "        colsum += col_dist\n",
    "        # totsum += row_dist + col_dist\n",
    "        result.append((row_dist, col_dist))\n",
    "    print(rowsum,colsum)\n",
    "    return (rowsum/4) + (colsum/5)\n",
    "    # return result\n",
    "    # return totsum\n",
    "\n",
    "bstate = load_board('board10')\n",
    "# bstate = [2,3,4,19,1,\n",
    "#           6,7,8,5,10,\n",
    "#           11,12,13,9,15,\n",
    "#           16,17,18,14,20]\n",
    "# bstate = [1,2,3,4,5,6,7,8,9,10,11,12,13,14,15,16,17,18,19,20]\n",
    "bstate =[1,2,3,4,5,\n",
    "        6,16,8,9,10,\n",
    "        11,7,13,14,15,\n",
    "        20,12,17,18,19]\n",
    "print(wrapped_distance_full(bstate))\n",
    "print(wrapped_distance_full(badboard))"
   ]
  },
  {
   "cell_type": "code",
   "execution_count": 12,
   "metadata": {},
   "outputs": [
    {
     "output_type": "error",
     "ename": "SyntaxError",
     "evalue": "invalid syntax (&lt;ipython-input-12-a5e709aeda1e&gt;, line 1)",
     "traceback": [
      "\u001b[1;36m  File \u001b[1;32m&quot;&lt;ipython-input-12-a5e709aeda1e&gt;&quot;\u001b[1;36m, line \u001b[1;32m1\u001b[0m\n\u001b[1;33m    1   2   3   4   5\u001b[0m\n\u001b[1;37m        ^\u001b[0m\n\u001b[1;31mSyntaxError\u001b[0m\u001b[1;31m:\u001b[0m invalid syntax\n"
     ]
    }
   ],
   "source": [
    "1   2   3   4   5 \n",
    "6   7   8   9  10 \n",
    "11  12  13  14  15 \n",
    "16  17  18  19  20 "
   ]
  },
  {
   "cell_type": "code",
   "execution_count": 13,
   "metadata": {
    "tags": []
   },
   "outputs": [
    {
     "output_type": "stream",
     "name": "stdout",
     "text": "[([17, 3, 15, 9, 1, 2, 7, 8, 14, 10, 11, 6, 13, 5, 20, 12, 18, 19, 4, 16], &#39;L1&#39;), ([1, 17, 3, 15, 9, 7, 8, 14, 10, 2, 11, 6, 13, 5, 20, 12, 18, 19, 4, 16], &#39;L2&#39;), ([1, 17, 3, 15, 9, 2, 7, 8, 14, 10, 6, 13, 5, 20, 11, 12, 18, 19, 4, 16], &#39;L3&#39;), ([1, 17, 3, 15, 9, 2, 7, 8, 14, 10, 11, 6, 13, 5, 20, 18, 19, 4, 16, 12], &#39;L4&#39;), ([9, 1, 17, 3, 15, 2, 7, 8, 14, 10, 11, 6, 13, 5, 20, 12, 18, 19, 4, 16], &#39;R1&#39;), ([1, 17, 3, 15, 9, 10, 2, 7, 8, 14, 11, 6, 13, 5, 20, 12, 18, 19, 4, 16], &#39;R2&#39;), ([1, 17, 3, 15, 9, 2, 7, 8, 14, 10, 20, 11, 6, 13, 5, 12, 18, 19, 4, 16], &#39;R3&#39;), ([1, 17, 3, 15, 9, 2, 7, 8, 14, 10, 11, 6, 13, 5, 20, 16, 12, 18, 19, 4], &#39;R4&#39;), ((2, 17, 3, 15, 9, 11, 7, 8, 14, 10, 12, 6, 13, 5, 20, 1, 18, 19, 4, 16), &#39;U1&#39;), ((1, 7, 3, 15, 9, 2, 6, 8, 14, 10, 11, 18, 13, 5, 20, 12, 17, 19, 4, 16), &#39;U2&#39;), ((1, 17, 8, 15, 9, 2, 7, 13, 14, 10, 11, 6, 19, 5, 20, 12, 18, 3, 4, 16), &#39;U3&#39;), ((1, 17, 3, 14, 9, 2, 7, 8, 5, 10, 11, 6, 13, 4, 20, 12, 18, 19, 15, 16), &#39;U4&#39;), ((1, 17, 3, 15, 10, 2, 7, 8, 14, 20, 11, 6, 13, 5, 16, 12, 18, 19, 4, 9), &#39;U5&#39;), ((12, 17, 3, 15, 9, 1, 7, 8, 14, 10, 2, 6, 13, 5, 20, 11, 18, 19, 4, 16), &#39;D1&#39;), ((1, 18, 3, 15, 9, 2, 17, 8, 14, 10, 11, 7, 13, 5, 20, 12, 6, 19, 4, 16), &#39;D2&#39;), ((1, 17, 19, 15, 9, 2, 7, 3, 14, 10, 11, 6, 8, 5, 20, 12, 18, 13, 4, 16), &#39;D3&#39;), ((1, 17, 3, 4, 9, 2, 7, 8, 15, 10, 11, 6, 13, 14, 20, 12, 18, 19, 5, 16), &#39;D4&#39;), ((1, 17, 3, 15, 16, 2, 7, 8, 14, 9, 11, 6, 13, 5, 10, 12, 18, 19, 4, 20), &#39;D5&#39;)]\nstrat\n 17   3  15   9   1 \n  2   7   8  14  10 \n 11   6  13   5  20 \n 12  18  19   4  16 \n17 1 1\n3 0 1\n15 2 2\n9 1 0\n1 0 1\n2 1 1\n7 0 0\n8 0 0\n14 1 0\n10 0 0\n11 0 0\n6 1 1\n13 0 0\n5 2 1\n20 1 0\n12 1 1\n18 0 1\n19 0 1\n4 1 0\n16 0 1\n[0, 1, 2] [0, 1, 2] 4\n4\n  1  17   3  15   9 \n  7   8  14  10   2 \n 11   6  13   5  20 \n 12  18  19   4  16 \n1 0 0\n17 1 0\n3 0 0\n15 2 1\n9 1 1\n7 0 1\n8 0 1\n14 1 1\n10 0 1\n2 1 2\n11 0 0\n6 1 1\n13 0 0\n5 2 1\n20 1 0\n12 1 1\n18 0 1\n19 0 1\n4 1 0\n16 0 1\n[0, 1, 2] [0, 1, 2] 4\n4\n  1  17   3  15   9 \n  2   7   8  14  10 \n  6  13   5  20  11 \n 12  18  19   4  16 \n1 0 0\n17 1 0\n3 0 0\n15 2 1\n9 1 1\n2 1 1\n7 0 0\n8 0 0\n14 1 0\n10 0 0\n6 1 0\n13 0 1\n5 2 2\n20 1 1\n11 0 1\n12 1 1\n18 0 1\n19 0 1\n4 1 0\n16 0 1\n[0, 1, 2] [0, 1, 2] 4\n4\n  1  17   3  15   9 \n  2   7   8  14  10 \n 11   6  13   5  20 \n 18  19   4  16  12 \n1 0 0\n17 1 0\n3 0 0\n15 2 1\n9 1 1\n2 1 1\n7 0 0\n8 0 0\n14 1 0\n10 0 0\n11 0 0\n6 1 1\n13 0 0\n5 2 1\n20 1 0\n18 0 2\n19 0 2\n4 1 1\n16 0 2\n12 1 2\n[0, 1, 2] [0, 1, 2] 4\n4\n  9   1  17   3  15 \n  2   7   8  14  10 \n 11   6  13   5  20 \n 12  18  19   4  16 \n9 1 2\n1 0 1\n17 1 1\n3 0 1\n15 2 0\n2 1 1\n7 0 0\n8 0 0\n14 1 0\n10 0 0\n11 0 0\n6 1 1\n13 0 0\n5 2 1\n20 1 0\n12 1 1\n18 0 1\n19 0 1\n4 1 0\n16 0 1\n[0, 1, 2] [0, 1, 2] 4\n4\n  1  17   3  15   9 \n 10   2   7   8  14 \n 11   6  13   5  20 \n 12  18  19   4  16 \n1 0 0\n17 1 0\n3 0 0\n15 2 1\n9 1 1\n10 0 1\n2 1 0\n7 0 1\n8 0 1\n14 1 1\n11 0 0\n6 1 1\n13 0 0\n5 2 1\n20 1 0\n12 1 1\n18 0 1\n19 0 1\n4 1 0\n16 0 1\n[0, 1, 2] [0, 1] 3\n3\n  1  17   3  15   9 \n  2   7   8  14  10 \n 20  11   6  13   5 \n 12  18  19   4  16 \n1 0 0\n17 1 0\n3 0 0\n15 2 1\n9 1 1\n2 1 1\n7 0 0\n8 0 0\n14 1 0\n10 0 0\n20 1 1\n11 0 1\n6 1 2\n13 0 1\n5 2 0\n12 1 1\n18 0 1\n19 0 1\n4 1 0\n16 0 1\n[0, 1, 2] [0, 1, 2] 4\n4\n  1  17   3  15   9 \n  2   7   8  14  10 \n 11   6  13   5  20 \n 16  12  18  19   4 \n1 0 0\n17 1 0\n3 0 0\n15 2 1\n9 1 1\n2 1 1\n7 0 0\n8 0 0\n14 1 0\n10 0 0\n11 0 0\n6 1 1\n13 0 0\n5 2 1\n20 1 0\n16 0 0\n12 1 0\n18 0 0\n19 0 0\n4 1 1\n[0, 1, 2] [0, 1] 3\n3\n  2  17   3  15   9 \n 11   7   8  14  10 \n 12   6  13   5  20 \n  1  18  19   4  16 \n2 0 1\n17 1 0\n3 0 0\n15 2 1\n9 1 1\n11 1 0\n7 0 0\n8 0 0\n14 1 0\n10 0 0\n12 0 1\n6 1 1\n13 0 0\n5 2 1\n20 1 0\n1 1 0\n18 0 1\n19 0 1\n4 1 0\n16 0 1\n[0, 1, 2] [0, 1] 3\n3\n  1   7   3  15   9 \n  2   6   8  14  10 \n 11  18  13   5  20 \n 12  17  19   4  16 \n1 0 0\n7 1 0\n3 0 0\n15 2 1\n9 1 1\n2 1 1\n6 0 1\n8 0 0\n14 1 0\n10 0 0\n11 0 0\n18 1 1\n13 0 0\n5 2 1\n20 1 0\n12 1 1\n17 0 0\n19 0 1\n4 1 0\n16 0 1\n[0, 1, 2] [0, 1] 3\n3\n  1  17   8  15   9 \n  2   7  13  14  10 \n 11   6  19   5  20 \n 12  18   3   4  16 \n1 0 0\n17 1 0\n8 1 0\n15 2 1\n9 1 1\n2 1 1\n7 0 0\n13 1 0\n14 1 0\n10 0 0\n11 0 0\n6 1 1\n19 1 1\n5 2 1\n20 1 0\n12 1 1\n18 0 1\n3 1 0\n4 1 0\n16 0 1\n[0, 1, 2] [0, 1] 3\n3\n  1  17   3  14   9 \n  2   7   8   5  10 \n 11   6  13   4  20 \n 12  18  19  15  16 \n1 0 0\n17 1 0\n3 0 0\n14 2 0\n9 1 1\n2 1 1\n7 0 0\n8 0 0\n5 1 1\n10 0 0\n11 0 0\n6 1 1\n13 0 0\n4 2 0\n20 1 0\n12 1 1\n18 0 1\n19 0 1\n15 1 1\n16 0 1\n[0, 1, 2] [0, 1] 3\n3\n  1  17   3  15  10 \n  2   7   8  14  20 \n 11   6  13   5  16 \n 12  18  19   4   9 \n1 0 0\n17 1 0\n3 0 0\n15 2 1\n10 1 0\n2 1 1\n7 0 0\n8 0 0\n14 1 0\n20 2 0\n11 0 0\n6 1 1\n13 0 0\n5 2 1\n16 1 1\n12 1 1\n18 0 1\n19 0 1\n4 1 0\n9 2 1\n[0, 1, 2] [0, 1] 3\n3\n 12  17   3  15   9 \n  1   7   8  14  10 \n  2   6  13   5  20 \n 11  18  19   4  16 \n12 2 1\n17 1 0\n3 0 0\n15 2 1\n9 1 1\n1 1 0\n7 0 0\n8 0 0\n14 1 0\n10 0 0\n2 2 1\n6 1 1\n13 0 0\n5 2 1\n20 1 0\n11 1 0\n18 0 1\n19 0 1\n4 1 0\n16 0 1\n[0, 1, 2] [0, 1] 3\n3\n  1  18   3  15   9 \n  2  17   8  14  10 \n 11   7  13   5  20 \n 12   6  19   4  16 \n1 0 0\n18 1 1\n3 0 0\n15 2 1\n9 1 1\n2 1 1\n17 2 0\n8 0 0\n14 1 0\n10 0 0\n11 0 0\n7 1 0\n13 0 0\n5 2 1\n20 1 0\n12 1 1\n6 2 1\n19 0 1\n4 1 0\n16 0 1\n[0, 1, 2] [0, 1] 3\n3\n  1  17  19  15   9 \n  2   7   3  14  10 \n 11   6   8   5  20 \n 12  18  13   4  16 \n1 0 0\n17 1 0\n19 1 1\n15 2 1\n9 1 1\n2 1 1\n7 0 0\n3 1 0\n14 1 0\n10 0 0\n11 0 0\n6 1 1\n8 1 0\n5 2 1\n20 1 0\n12 1 1\n18 0 1\n13 1 0\n4 1 0\n16 0 1\n[0, 1, 2] [0, 1] 3\n3\n  1  17   3   4   9 \n  2   7   8  15  10 \n 11   6  13  14  20 \n 12  18  19   5  16 \n1 0 0\n17 1 0\n3 0 0\n4 0 0\n9 1 1\n2 1 1\n7 0 0\n8 0 0\n15 1 1\n10 0 0\n11 0 0\n6 1 1\n13 0 0\n14 0 0\n20 1 0\n12 1 1\n18 0 1\n19 0 1\n5 1 1\n16 0 1\n[0, 1] [0, 1] 2\n2\n  1  17   3  15  16 \n  2   7   8  14   9 \n 11   6  13   5  10 \n 12  18  19   4  20 \n1 0 0\n17 1 0\n3 0 0\n15 2 1\n16 1 1\n2 1 1\n7 0 0\n8 0 0\n14 1 0\n9 0 1\n11 0 0\n6 1 1\n13 0 0\n5 2 1\n10 1 0\n12 1 1\n18 0 1\n19 0 1\n4 1 0\n20 0 0\n[0, 1, 2] [0, 1] 3\n3\n"
    }
   ],
   "source": [
    "def state_heuristic(state):\n",
    "    state_coordified = coordify(state)\n",
    "    rlist = []\n",
    "    clist = []\n",
    "    rclist = []\n",
    "    distances = []\n",
    "    for i in range(len(state)):\n",
    "        row_dist = wrapped_distance(state_coordified[i][0], intended_coords[i][0], 4)\n",
    "        col_dist = wrapped_distance(state_coordified[i][1], intended_coords[i][1], 5)\n",
    "        print(state[i],row_dist,col_dist)\n",
    "        wrapped_manhattan = row_dist + col_dist\n",
    "        # rlist.append((i, row_dist))\n",
    "        # clist.append((i, col_dist))\n",
    "        rlist.append(row_dist)\n",
    "        clist.append(col_dist)\n",
    "        rclist.append((row_dist,col_dist))\n",
    "        distances.append(wrapped_manhattan)\n",
    "        # print(max(distances))\n",
    "    setr = list(set(rlist))\n",
    "    setc = list(set(clist))\n",
    "    print(setr, setc, max(setr) + max(setc))\n",
    "    # print(set(rclist))\n",
    "    # return max(distances)\n",
    "    return max(setr) + max(setc)\n",
    "\n",
    "# print(\"Start state: \\n\" +\"\\n\".join(printable_board(tuple(start_state))))\n",
    "# print(state_heuristic(start_state))\n",
    "bstate = []\n",
    "def load_board(filename):\n",
    "    result = []\n",
    "    with open(filename, 'r') as file:\n",
    "        for line in file:\n",
    "            result += [ int(i) for i in line.split() ]\n",
    "    return result \n",
    "def print_theboard(state):\n",
    "    print(\"\\n\".join(printable_board(tuple(state))))\n",
    "\n",
    "bstate = load_board('board6')\n",
    "# bstate\n",
    "# # print_theboard(bstate)\n",
    "# print(state_heuristic(bstate))\n",
    "cstate = successors(bstate)\n",
    "print(cstate)\n",
    "print('strat')\n",
    "for item in cstate:\n",
    "    print_theboard(item[0])\n",
    "    print(state_heuristic(item[0]))\n",
    "\n",
    "# print_theboard(cstate)\n",
    "# state_heuristic(cstate)\n",
    "# for i in range(len(start_state)):\n",
    "#     state_coordified = coordify(start_state)\n",
    "#     print(wrapped_distance(state_coordified[i][1], intended_coords[i][1]))"
   ]
  },
  {
   "cell_type": "code",
   "execution_count": 14,
   "metadata": {
    "tags": []
   },
   "outputs": [
    {
     "output_type": "stream",
     "name": "stdout",
     "text": "  1   2   3   4   5 \n  6   7   8   9  10 \n 11  12  13  14  15 \n 16  17  18  19  20 \n\n\n  1  17   3  15   9 \n  2   7   8  14  10 \n 11   6  13   5  20 \n 12  18  19   4  16 \n"
    }
   ],
   "source": [
    "\n",
    "sted = sorted(bstate)\n",
    "# head = sorted(bstate)\n",
    "print_theboard(sted)\n",
    "print('\\n')\n",
    "print_theboard(bstate)\n",
    "# sorted(bstate[:-1])\n",
    "# print_theboard(bstate)\n",
    "# sted\n"
   ]
  },
  {
   "cell_type": "code",
   "execution_count": 15,
   "metadata": {},
   "outputs": [
    {
     "output_type": "execute_result",
     "data": {
      "text/plain": "[1, 2]"
     },
     "metadata": {},
     "execution_count": 15
    }
   ],
   "source": [
    "eere =[1,2,3]\n",
    "eere[:-1]"
   ]
  },
  {
   "cell_type": "code",
   "execution_count": 25,
   "metadata": {
    "tags": []
   },
   "outputs": [
    {
     "output_type": "execute_result",
     "data": {
      "text/plain": "[&#39;D5&#39;, &#39;R1&#39;, &#39;D4&#39;, &#39;R2&#39;, &#39;R4&#39;, &#39;U2&#39;, &#39;D5&#39;, &#39;L2&#39;]"
     },
     "metadata": {},
     "execution_count": 25
    }
   ],
   "source": [
    "import time\n",
    "time.time()\n",
    "bstate = load_board('board8')\n",
    "# solve2(state) -> list of moves needed to get to organized board.\n",
    "# this one utilizes a priority queue that follows the m \n",
    "def solve2(initial_board):\n",
    "    fringe = PriorityQueue()\n",
    "    initheur = state_heuristic(initial_board)\n",
    "    fringe.put((initheur, (initial_board, [])))\n",
    "    visited = [initial_board]\n",
    "    start = time.time()\n",
    "    # print(fringe)\n",
    "    icounter = 0\n",
    "    while not fringe.empty():\n",
    "        end = time.time()\n",
    "        got = fringe.get()\n",
    "        # print('got',got)\n",
    "        (state, route_so_far) = got[1]\n",
    "        # icounter = cost function. goes up by 1 every time fringe is popped.\n",
    "        # Not necessary for calculating heuristics, but as benchmark for time constraints\n",
    "        icounter += 1\n",
    "        # print(icounter)\n",
    "        # initheur = got[0]\n",
    "        # print(successors(state))\n",
    "        for (succ,move) in successors(state):\n",
    "            # print(move) \n",
    "            # print_theboard(succ)\n",
    "            # print('\\n')\n",
    "            # heuristic_of_succ: calculate heuristic of the each successor from the popped fringe.\n",
    "            heuristic_of_succ = state_heuristic(succ)\n",
    "            # print(heuristic_of_succ)\n",
    "            if is_goal(succ):\n",
    "                # print(end-start, icounter)\n",
    "                # print(len(route_so_far) +1)\n",
    "                return(route_so_far + [move,])\n",
    "            if end - start  > 50:\n",
    "                # print(\"passed 30\")\n",
    "                return False, got\n",
    "            # if succ not in visited:\n",
    "                # icounter -= 1\n",
    "            visited.append(succ)\n",
    "            tt = (list(succ), route_so_far+[move,])\n",
    "            # print((heuristic_of_succ,tt))\n",
    "            # fringe is updated with h(s) + c(s), and (successor state, route_so_far).\n",
    "            # c(s) is length of route so far; additional move included.\n",
    "            fringe.put((len(route_so_far)+ 1 + heuristic_of_succ, tt))\n",
    "solve2(bstate)\n",
    "# solve2(start_state)"
   ]
  },
  {
   "cell_type": "code",
   "execution_count": null,
   "metadata": {},
   "outputs": [],
   "source": [
    "asdf = []\n",
    "for i in range(20):\n",
    "    r = i + int(4/2)\n",
    "    c = r - (r%4)\n",
    "    asdf.append((r,c))\n",
    "asdf\n"
   ]
  },
  {
   "cell_type": "code",
   "execution_count": null,
   "metadata": {},
   "outputs": [],
   "source": [
    "world = PriorityQueue()\n",
    "world.put((1.2, 'a'))\n",
    "world.get()"
   ]
  },
  {
   "cell_type": "code",
   "execution_count": null,
   "metadata": {
    "tags": []
   },
   "outputs": [],
   "source": [
    "from queue import PriorityQueue\n",
    "customers = PriorityQueue()\n",
    "customers.put((2, \"Harry\"))\n",
    "customers.put((3, \"Charles\"))\n",
    "customers.put((1, \"Riya\"))\n",
    "customers.put((4, \"Stacy\"))\n",
    "while customers.qsize()!= 0:\n",
    "    popped  = customers.get\n",
    "    print(popped)\n",
    "    # print(customers.get())\n"
   ]
  },
  {
   "cell_type": "code",
   "execution_count": null,
   "metadata": {
    "tags": []
   },
   "outputs": [],
   "source": [
    "print('')"
   ]
  },
  {
   "cell_type": "code",
   "execution_count": 27,
   "metadata": {},
   "outputs": [
    {
     "output_type": "execute_result",
     "data": {
      "text/plain": "(False,\n (7.2,\n  ([5, 4, 3, 10, 20, 7, 8, 9, 14, 1, 11, 12, 13, 19, 6, 16, 17, 18, 2, 15],\n   [&#39;L2&#39;, &#39;U4&#39;, &#39;D5&#39;])))"
     },
     "metadata": {},
     "execution_count": 27
    }
   ],
   "source": [
    "badboard = load_board('board20')\n",
    "solve2(badboard)"
   ]
  },
  {
   "cell_type": "code",
   "execution_count": 35,
   "metadata": {
    "tags": []
   },
   "outputs": [
    {
     "output_type": "stream",
     "name": "stdout",
     "text": "  1   2   3   4   5 \n  6   7   8   9  10 \n 11  12  13  14  20 \n 16  17  18  19  15 \n"
    }
   ],
   "source": [
    "print_theboard([1, 2, 3, 4, 5, 6, 7, 8, 9, 10, 11, 12, 13, 14, 20, 16, 17, 18, 19, 15])"
   ]
  },
  {
   "cell_type": "code",
   "execution_count": 37,
   "metadata": {},
   "outputs": [
    {
     "output_type": "execute_result",
     "data": {
      "text/plain": "True"
     },
     "metadata": {},
     "execution_count": 37
    }
   ],
   "source": [
    "\n",
    "def is_goal(state):\n",
    "    print(sorted(state[:-1]))\n",
    "    return sorted(state[:-1]) == list(state[:-1]) \n",
    "is_goal([1, 2, 3, 5, 6, 7, 8, 9, 10, 11, 12, 13, 14, 15, 16, 17, 18, 19, 20, 4])"
   ]
  },
  {
   "cell_type": "code",
   "execution_count": 16,
   "metadata": {
    "tags": []
   },
   "outputs": [
    {
     "output_type": "stream",
     "name": "stdout",
     "text": "  1   2   3   4   5 \n  6  13   8   9  10 \n 11  17  12  14  15 \n 16   7  18  19  20 \n0 (0, 0)\n1 (0, 1)\n2 (0, 2)\n3 (0, 3)\n4 (0, 4)\n5 (1, 0)\n6 (1, 1)\n7 (1, 2)\n8 (1, 3)\n9 (1, 4)\n10 (2, 0)\n11 (2, 1)\n12 (2, 2)\n13 (2, 3)\n14 (2, 4)\n15 (3, 0)\n16 (3, 1)\n17 (3, 2)\n18 (3, 3)\n19 (3, 4)\n(2, 3)\n0\n1 0 0\n2 0 0\n3 0 0\n4 0 0\n5 0 0\n6 0 0\n13 1 1\n8 0 0\n9 0 0\n10 0 0\n11 0 0\n17 1 0\n12 0 1\n14 0 0\n15 0 0\n16 0 0\n7 2 0\n18 0 0\n19 0 0\n20 0 0\n[0, 1, 2] [0, 1] 3\n"
    },
    {
     "output_type": "execute_result",
     "data": {
      "text/plain": "3"
     },
     "metadata": {},
     "execution_count": 16
    }
   ],
   "source": [
    "sample = [1, 2, 3, 4, 5, 6, 13, 8, 9, 10, 11, 17, 12, 14, 15, 16, 7, 18, 19, 20]\n",
    "print_theboard(sample)\n",
    "for i in range(len(intended_coords)):\n",
    "    print(i, intended_coords[i])\n",
    "print(intended_coords[13])\n",
    "print(wrapped_distance(2,intended_coords[12][0], 5))\n",
    "state_heuristic(sample)"
   ]
  }
 ]
}