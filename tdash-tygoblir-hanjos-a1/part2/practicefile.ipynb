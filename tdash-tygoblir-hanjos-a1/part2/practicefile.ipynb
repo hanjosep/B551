{
 "metadata": {
  "language_info": {
   "codemirror_mode": {
    "name": "ipython",
    "version": 3
   },
   "file_extension": ".py",
   "mimetype": "text/x-python",
   "name": "python",
   "nbconvert_exporter": "python",
   "pygments_lexer": "ipython3",
   "version": "3.8.5-final"
  },
  "orig_nbformat": 2,
  "kernelspec": {
   "name": "Python 3.8.5 64-bit",
   "display_name": "Python 3.8.5 64-bit",
   "metadata": {
    "interpreter": {
     "hash": "4fedbdb6e668446f3c96061a3e0973608a7182bb8999eeda9ee69679a98fef9b"
    }
   }
  }
 },
 "nbformat": 4,
 "nbformat_minor": 2,
 "cells": [
  {
   "cell_type": "code",
   "execution_count": 1,
   "metadata": {},
   "outputs": [],
   "source": [
    "#!/usr/local/bin/python3\n",
    "\n",
    "# put your routing program here!\n",
    "import sys\n",
    "from math import sin, cos, asin, radians, sqrt, pow\n",
    "\n",
    "\n",
    "def get_distance(start_city, end_city, city_gps):\n",
    "    \"\"\"\n",
    "    Function to calculate euclidean distance between cities\n",
    "    Args:\n",
    "        start_city: start_city\n",
    "        end_city: end_city\n",
    "        city_gps: city GPS dictionary\n",
    "    Returns: a float distance\n",
    "    \"\"\"\n",
    "    if start_city == end_city:\n",
    "        return 0\n",
    "    # if a city is missing a gps coordinate return distance 0\n",
    "    if start_city not in city_gps or end_city not in city_gps:\n",
    "        return None\n",
    "    else:\n",
    "        [st_lat, st_long] = city_gps.get(start_city)\n",
    "        [end_lat, end_long] = city_gps.get(end_city)\n",
    "        # courtesy - https://stackoverflow.com/questions/4913349/haversine-formula-in-python-bearing-and-distance\n",
    "        # -between-two-gps-points convert decimal degrees to radians\n",
    "        lon1, lat1, lon2, lat2 = map(radians, [st_long, st_lat, end_long, end_lat])\n",
    "        # haversine formula\n",
    "        dlon = lon2 - lon1\n",
    "        dlat = lat2 - lat1\n",
    "        a = sin(dlat / 2) ** 2 + cos(lat1) * cos(lat2) * sin(dlon / 2) ** 2\n",
    "        c = 2 * asin(sqrt(a))\n",
    "        r = 6372800\n",
    "        return c * r * 0.000621371\n"
   ]
  },
  {
   "cell_type": "code",
   "execution_count": 2,
   "metadata": {},
   "outputs": [
    {
     "output_type": "execute_result",
     "data": {
      "text/plain": [
       "16.0"
      ]
     },
     "metadata": {},
     "execution_count": 2
    }
   ],
   "source": [
    "pow(2,4)"
   ]
  },
  {
   "cell_type": "code",
   "execution_count": null,
   "metadata": {},
   "outputs": [],
   "source": [
    "\n",
    "\n",
    "def create_gps_dict():\n",
    "    \"\"\"\n",
    "    Function to read a text file and create a dictionary of cities as key and their longitude and latitude as values.\n",
    "    Returns: a dictionary\n",
    "    \"\"\"\n",
    "    gps = {}\n",
    "    with open(\"city-gps.txt\") as f:\n",
    "        for line in f:\n",
    "            (city, latitude, longitude) = line.split()\n",
    "            gps[city] = [float(latitude), float(longitude)]\n",
    "        return gps\n",
    "\n"
   ]
  },
  {
   "cell_type": "code",
   "execution_count": null,
   "metadata": {},
   "outputs": [],
   "source": [
    "\n",
    "def create_road_seg_dict():\n",
    "    \"\"\"\n",
    "    Function to read a text file and create a dictionary of road segments.\n",
    "    Returns: a dictionary\n",
    "    \"\"\"\n",
    "    road_seg = {}\n",
    "    with open(\"road-segments.txt\") as f:\n",
    "        for line in f:\n",
    "            (start_city, end_city, length, speed_limit, highway_name) = line.split()\n",
    "            if start_city not in road_seg:\n",
    "                road_seg[start_city] = [[end_city, int(length), int(speed_limit), highway_name]]\n",
    "            else:\n",
    "                road_seg[start_city].append([end_city, int(length), int(speed_limit), highway_name])\n",
    "            if end_city not in road_seg:\n",
    "                road_seg[end_city] = [[start_city, int(length), int(speed_limit), highway_name]]\n",
    "            else:\n",
    "                road_seg[end_city].append([start_city, int(length), int(speed_limit), highway_name])\n",
    "\n",
    "        return road_seg\n"
   ]
  },
  {
   "cell_type": "code",
   "execution_count": null,
   "metadata": {
    "tags": []
   },
   "outputs": [],
   "source": [
    "city_gps = create_gps_dict()\n",
    "city_gps[\"Bloomington,_Indiana\"]\n",
    "# city_gps['blah']\n",
    "# print(city_gps)\n",
    "get_distance(\"Bloomington,_Indiana\", \"Martinsville,_Indiana\", city_gps)"
   ]
  },
  {
   "cell_type": "code",
   "execution_count": null,
   "metadata": {},
   "outputs": [],
   "source": [
    "\n",
    "def get_path_details(city_name, con_city_list):\n",
    "    \"\"\"\n",
    "    Function to loop through a city list and return a city if a name matches\n",
    "    Args:\n",
    "        city_name: city_name\n",
    "        con_city_list: List of cities\n",
    "    Returns: a city and its path details.\n",
    "    \"\"\"\n",
    "    for city in con_city_list:\n",
    "        if city[0] == city_name:\n",
    "            return city\n",
    "\n",
    "\n"
   ]
  },
  {
   "cell_type": "code",
   "execution_count": null,
   "metadata": {
    "tags": []
   },
   "outputs": [],
   "source": [
    "global road_seg, city_gps\n",
    "road_seg = create_road_seg_dict()\n",
    "bloomsegs = road_seg['Bloomington,_Indiana']\n",
    "\n",
    "bloomsegs"
   ]
  },
  {
   "cell_type": "code",
   "execution_count": 3,
   "metadata": {},
   "outputs": [
    {
     "output_type": "error",
     "ename": "NameError",
     "evalue": "name 'bloomsegs' is not defined",
     "traceback": [
      "\u001b[1;31m---------------------------------------------------------------------------\u001b[0m",
      "\u001b[1;31mNameError\u001b[0m                                 Traceback (most recent call last)",
      "\u001b[1;32m<ipython-input-3-c61112a48e95>\u001b[0m in \u001b[0;36m<module>\u001b[1;34m\u001b[0m\n\u001b[1;32m----> 1\u001b[1;33m \u001b[0mbloomsegs\u001b[0m\u001b[1;33m[\u001b[0m\u001b[1;36m1\u001b[0m\u001b[1;33m]\u001b[0m\u001b[1;33m[\u001b[0m\u001b[1;36m1\u001b[0m\u001b[1;33m]\u001b[0m\u001b[1;33m\u001b[0m\u001b[1;33m\u001b[0m\u001b[0m\n\u001b[0m",
      "\u001b[1;31mNameError\u001b[0m: name 'bloomsegs' is not defined"
     ]
    }
   ],
   "source": [
    "bloomsegs[1][1]"
   ]
  },
  {
   "cell_type": "code",
   "execution_count": null,
   "metadata": {},
   "outputs": [],
   "source": [
    "martsegs = road_seg['Martinsville,_Indiana']\n",
    "martsegs"
   ]
  },
  {
   "cell_type": "code",
   "execution_count": 10,
   "metadata": {},
   "outputs": [
    {
     "output_type": "execute_result",
     "data": {
      "text/plain": [
       "[['Indianapolis,_Indiana', 7, 30, 'IN_37'],\n",
       " ['Jct_I-465_&_IN_67,_Indiana', 4, 55, 'I-74/465'],\n",
       " ['Jct_I-65_&_I-465_S,_Indiana', 4, 55, 'I-74/465'],\n",
       " ['Martinsville,_Indiana', 25, 52, 'IN_37']]"
      ]
     },
     "metadata": {},
     "execution_count": 10
    }
   ],
   "source": [
    "lastseg = road_seg['Jct_I-465_&_IN_37_S,_Indiana']\n",
    "lastseg"
   ]
  },
  {
   "cell_type": "code",
   "execution_count": 11,
   "metadata": {},
   "outputs": [],
   "source": [
    "city_gps = create_gps_dict()\n",
    "# print(city_gps)\n",
    "road_seg = create_road_seg_dict()"
   ]
  },
  {
   "cell_type": "code",
   "execution_count": 12,
   "metadata": {},
   "outputs": [],
   "source": [
    "# Return all connecting cities from a city\n",
    "def successors(start_city, end_city, cost_function, road_seg, city_gps, city_visited):\n",
    "    \"\"\"\n",
    "    Function to return all connecting cities given a city\n",
    "    Returns: a parent list of all connecting cities and its data in a list.\n",
    "    \"\"\"\n",
    "    return cost(road_seg.get(start_city), end_city, cost_function, city_gps, city_visited)\n",
    "\n",
    "\n",
    "# def is_goal(start_city, end_city):\n",
    "#     \"\"\"\n",
    "#     Function to return true if a goal city is arrived.\n",
    "#     Returns: a boolean\n",
    "#     \"\"\"\n",
    "#     return start_city == end_city\n",
    "\n",
    "\n",
    "\n",
    "\n"
   ]
  },
  {
   "cell_type": "code",
   "execution_count": 109,
   "metadata": {
    "tags": []
   },
   "outputs": [],
   "source": [
    "# The main function\n",
    "# if __name__ == \"__main__\":\n",
    "    # if (len(sys.argv) != 4):\n",
    "    #     raise (Exception(\"Error: Please enter agrs in format [start-city] [end-city] [cost-function]\"))\n",
    "start_city = \"Bloomington,_Indiana\"\n",
    "end_city = \"Indianapolis,_Indiana\"\n",
    "start_city = 'Seattle,_Washington'\n",
    "end_city = 'Los_Angeles,_California'\n",
    "cost_function = \"distance\"\n",
    "\n",
    "city_gps = create_gps_dict()\n",
    "# print(city_gps)\n",
    "road_seg = create_road_seg_dict()\n",
    "# print(road_seg)\n",
    "# distance = get_distance(start_city, end_city, city_gps)\n",
    "# print(\"Euclidean distance : \",distance)\n",
    "# connecting_cities = successors(start_city, end_city, cost_function, road_seg, city_gps)\n",
    "# print(connecting_cities)\n",
    "# # cost = cost(connecting_cities, end_city, cost_function, city_gps)\n",
    "# # print(cost)\n",
    "\n",
    "# result = solve(start_city, end_city, cost_function, road_seg, city_gps)\n",
    "# print(result)"
   ]
  },
  {
   "cell_type": "code",
   "execution_count": 110,
   "metadata": {},
   "outputs": [
    {
     "output_type": "execute_result",
     "data": {
      "text/plain": [
       "0.4840290472975498"
      ]
     },
     "metadata": {},
     "execution_count": 110
    }
   ],
   "source": [
    "# heuristic from the popped city to the end city. \n",
    "def state_heuristic(city,end_city, cost_function):\n",
    "    # print(city)\n",
    "    cityname = city[0]\n",
    "    mph = city[2]\n",
    "    distance = get_distance(cityname,end_city,city_gps)\n",
    "    if distance == None:\n",
    "        return None\n",
    "    if cost_function == \"segments\":\n",
    "        return 0\n",
    "    if cost_function == \"distance\":\n",
    "        return distance\n",
    "    if cost_function == 'time':\n",
    "        time = float(float(distance)/(mph + 5))\n",
    "        return time\n",
    "    if cost_function == 'cycling':\n",
    "        return distance * mph * 0.000001\n",
    "# popping bloomington gives:\n",
    "mvile = ['Martinsville,_Indiana', 19, 52, 'IN_37']\n",
    "state_heuristic(mvile,\"Indianapolis,_Indiana\",\"time\")"
   ]
  },
  {
   "cell_type": "code",
   "execution_count": 111,
   "metadata": {},
   "outputs": [
    {
     "output_type": "execute_result",
     "data": {
      "text/plain": [
       "0.0013"
      ]
     },
     "metadata": {},
     "execution_count": 111
    }
   ],
   "source": [
    "jctn =  ['Jct_I-465_&_IN_37_S,_Indiana', 25, 52, 'IN_37']\n",
    "state_heuristic(jctn, \"Indianapolis,_Indiana\",\"distance\")\n",
    "def cost_to_add(section, cost_function):\n",
    "    length = section[1]\n",
    "    mph = section[2]\n",
    "    if cost_function == \"segments\":\n",
    "            return 1\n",
    "    if cost_function == \"distance\":\n",
    "        return length\n",
    "    if cost_function == 'time':\n",
    "        return float(length)/(mph + 5)\n",
    "    if cost_function == 'cycling':\n",
    "        return length * mph * 0.000001\n",
    "cost_to_add(jctn, \"cycling\")"
   ]
  },
  {
   "cell_type": "code",
   "execution_count": 112,
   "metadata": {},
   "outputs": [],
   "source": [
    "def successors(city):\n",
    "    \"\"\"\n",
    "    Function to return all connecting cities given a city\n",
    "    Returns: a parent list of all connecting cities and its data in a list.\n",
    "    \"\"\"\n",
    "    return road_seg.get(city)\n"
   ]
  },
  {
   "cell_type": "code",
   "execution_count": 113,
   "metadata": {},
   "outputs": [],
   "source": [
    "def construct_fringe(prev_heuristic,cost_function, new_heuristic, segment_to_add,distance_to_add,time_to_add,cycling_to_add,new_route):\n",
    "    if cost_function == 'segments':\n",
    "        return (segment_to_add+new_heuristic, [segment_to_add,distance_to_add,time_to_add,cycling_to_add, new_route])\n",
    "    if cost_function != 'segments' and new_heuristic ==None:\n",
    "        return (prev_heuristic, [segment_to_add,distance_to_add,time_to_add,cycling_to_add, new_route])\n",
    "    if cost_function == 'distance':\n",
    "        return (distance_to_add+new_heuristic, [segment_to_add,distance_to_add,time_to_add,cycling_to_add, new_route])\n",
    "    if cost_function == 'time':\n",
    "        return (time_to_add+new_heuristic, [segment_to_add,distance_to_add,time_to_add,cycling_to_add, new_route])\n",
    "    if cost_function == 'cycling':\n",
    "        return (cycling_to_add+new_heuristic, [segment_to_add,distance_to_add,time_to_add,cycling_to_add, new_route])\n",
    "\n",
    "import time\n",
    "def solve(start_city, end_city, cost_function):\n",
    "    fringe = PriorityQueue()\n",
    "    fringe.put((0, [0, 0, 0, 0, [start_city]]))\n",
    "    start = time.time()\n",
    "    while not fringe.empty():\n",
    "        got = fringe.get()\n",
    "        # print(got[0], got[1][4][-1])\n",
    "        result = got[1]\n",
    "        segments_so_far = got[1][0]\n",
    "        distance_so_far = got[1][1]\n",
    "        time_so_far = got[1][2]\n",
    "        cycling_so_far = got[1][3]\n",
    "        route_so_far = got[1][4]\n",
    "        # print(route_so_far)\n",
    "        \n",
    "        current_city = got[1][4][-1]\n",
    "        # print(current_city)\n",
    "        if current_city == end_city:\n",
    "            end = time.time()\n",
    "            print(end-start, fringe.qsize())\n",
    "            return result\n",
    "        con_cities = successors(current_city)\n",
    "        # print(\"con_cities : \",con_cities)\n",
    "        count =0\n",
    "        for city in con_cities:\n",
    "            count +=1 \n",
    "            # total distance travelled so far + distance to the city + h(s)\n",
    "            # print(result[1] , cost_function(city,cost_function) , get_distance(city[0], end_city), city)\n",
    "            # print(city)\n",
    "            new_heuristic = state_heuristic(city,end_city, cost_function)\n",
    "            # print('popped route',route_so_far, city[0])\n",
    "            # new_route = route_so_far\n",
    "            # print(new_route)\n",
    "            # new_route.append(city[0])\n",
    "            if city[0] not in route_so_far:\n",
    "                new_route = route_so_far+[city[0]]\n",
    "                # print(new_route.append(city[0]))\n",
    "                segment_to_add = 1 + segments_so_far\n",
    "                distance_to_add = city[1] + distance_so_far\n",
    "                # print(city[1]/(city[2]+5))\n",
    "                time_to_add = float(float(city[1])/(city[2]+5)) + float(time_so_far)\n",
    "                # print(city[3])\n",
    "                # print(distance_to_add)\n",
    "                cycling_to_add = city[1]*city[2]*0.000001 + cycling_so_far\n",
    "                \n",
    "                # if cost_function != \"segments\" and new_heuristic == 0:\n",
    "                #     blah = got[0]\n",
    "                #     # print(new_heuristic)\n",
    "                #     # distance_so_far += city[1]\n",
    "                #     fringe.put((blah, [segment_to_add,distance_to_add,time_to_add,cycling_to_add,new_route]))\n",
    "                # else:\n",
    "                fringe.put(construct_fringe(got[0],cost_function, new_heuristic, segment_to_add,distance_to_add,time_to_add,cycling_to_add,new_route))"
   ]
  },
  {
   "cell_type": "code",
   "execution_count": 114,
   "metadata": {},
   "outputs": [
    {
     "output_type": "execute_result",
     "data": {
      "text/plain": [
       "960.4775671801498"
      ]
     },
     "metadata": {},
     "execution_count": 114
    }
   ],
   "source": [
    "get_distance(start_city,end_city,city_gps)"
   ]
  },
  {
   "cell_type": "code",
   "execution_count": 115,
   "metadata": {},
   "outputs": [
    {
     "output_type": "execute_result",
     "data": {
      "text/plain": [
       "1785.2557454051655"
      ]
     },
     "metadata": {},
     "execution_count": 115
    }
   ],
   "source": [
    "state_heuristic(['Bloomington,_Indiana', 19, 52, 'IN_37'],end_city,'distance')"
   ]
  },
  {
   "cell_type": "code",
   "execution_count": 116,
   "metadata": {
    "tags": []
   },
   "outputs": [
    {
     "output_type": "stream",
     "name": "stdout",
     "text": [
      "49.877002477645874 2217190\n[51, 1163, 18.719206349206342, 0.06826099999999996, ['Seattle,_Washington', 'Riverton_Heights,_Washington', 'Federal_Way,_Washington', 'Tacoma,_Washington', 'Parkland,_Washington', 'Morton,_Washington', 'Napavine,_Washington', 'Longview,_Washington', 'Salmon_Creek,_Washington', 'Vancouver,_Washington', 'Portland,_Oregon', 'Tigard,_Oregon', 'Tualatin,_Oregon', 'Salem,_Oregon', 'Albany,_Oregon', 'Eugene,_Oregon', 'Goshen,_Oregon', 'Anlauf,_Oregon', 'Sutherlin,_Oregon', 'Roseburg,_Oregon', 'Green,_Oregon', 'Grants_Pass,_Oregon', 'Medford,_Oregon', 'Jct_I-5_&_CA_96,_California', 'Weed,_California', 'Mount_Shasta,_California', 'Redding,_California', 'Red_Bluff,_California', 'Chico,_California', 'Yuba_City,_California', 'Nicolaus,_California', 'Jct_I-5_&_I-80,_California', 'Sacramento,_California', 'Lodi,_California', 'Stockton,_California', 'Manteca,_California', 'Modesto,_California', 'Merced,_California', 'Chowchilla,_California', 'Fresno,_California', 'Visalia,_California', 'Famoso,_California', 'Bakersfield,_California', 'Wheeler_Ridge,_California', 'Jct_I-5_&_CA_138,_California', 'Valencia,_California', 'San_Fernando,_California', 'Jct_I-5_&_CA_118,_California', 'Panorama_City,_California', 'Glendale,_California', 'Jct_I-5_&_CA_2,_California', 'Los_Angeles,_California']]\n"
     ]
    }
   ],
   "source": [
    "from queue import PriorityQueue\n",
    "# start_city = \"Bloomington,_Indiana\"\n",
    "# end_city = \"Indianapolis,_Indiana\"\n",
    "# end_city = \"Chicago,_Illinois\"\n",
    "# end_city = \"Atlanta,_Georgia\"\n",
    "# end_city = \"Houston,_Texas\"\n",
    "\n",
    "# cost_function = \"time\"\n",
    "\n",
    "city_gps = create_gps_dict()\n",
    "# print(city_gps)\n",
    "road_seg = create_road_seg_dict()\n",
    "# print(road_seg)\n",
    "# distance = get_distance(start_city, end_city, city_gps)\n",
    "# print(\"Euclidean distance : \",distance)\n",
    "# connecting_cities = successors(start_city, end_city, cost_function, road_seg, city_gps)\n",
    "# print(connecting_cities)\n",
    "# # cost = cost(connecting_cities, end_city, cost_function, city_gps)\n",
    "# # print(cost)\n",
    "\n",
    "result = solve(start_city, end_city, cost_function)\n",
    "print(result)"
   ]
  },
  {
   "cell_type": "code",
   "execution_count": 117,
   "metadata": {
    "tags": []
   },
   "outputs": [
    {
     "output_type": "stream",
     "name": "stdout",
     "text": [
      "0.02200174331665039 1553\nTyler's method:\n[54, 1318, 19.86167919799498, 0.08198899999999999, ['Seattle,_Washington', 'Riverton_Heights,_Washington', 'Renton,_Washington', 'Bellevue,_Washington', 'Preston,_Washington', 'North_Bend,_Washington', 'Ellensburg,_Washington', 'Yakima,_Washington', 'Buena,_Washington', 'Maryhill,_Washington', 'Biggs,_Oregon', 'The_Dalles,_Oregon', 'Parkrose,_Oregon', 'Gilbert,_Oregon', 'Tualatin,_Oregon', 'Salem,_Oregon', 'Albany,_Oregon', 'Eugene,_Oregon', 'Goshen,_Oregon', 'Anlauf,_Oregon', 'Sutherlin,_Oregon', 'Roseburg,_Oregon', 'Green,_Oregon', 'Grants_Pass,_Oregon', 'Medford,_Oregon', 'Jct_I-5_&_CA_96,_California', 'Weed,_California', 'Mount_Shasta,_California', 'Redding,_California', 'Red_Bluff,_California', 'Orland,_California', 'Williams,_California', 'Dunnigan,_California', 'Woodland,_California', 'Jct_I-5_&_I-80,_California', 'Sacramento,_California', 'Lodi,_California', 'Stockton,_California', 'Manteca,_California', 'Modesto,_California', 'Merced,_California', 'Chowchilla,_California', 'Fresno,_California', 'Visalia,_California', 'Famoso,_California', 'Bakersfield,_California', 'Wheeler_Ridge,_California', 'Jct_I-5_&_CA_138,_California', 'Valencia,_California', 'San_Fernando,_California', 'Jct_I-5_&_CA_118,_California', 'Panorama_City,_California', 'Glendale,_California', 'Jct_I-5_&_CA_2,_California', 'Los_Angeles,_California']]\n"
     ]
    }
   ],
   "source": [
    "result = solve(start_city, end_city, 'time')\n",
    "print(\"Tyler's method:\")\n",
    "print(result)"
   ]
  },
  {
   "cell_type": "code",
   "execution_count": 118,
   "metadata": {},
   "outputs": [],
   "source": [
    "# wihtout tyler's suggesstion (convert h(s) to 0; don't bring old h+c)\n",
    "def construct_fringe(prev_heuristic,cost_function, new_heuristic, segment_to_add,distance_to_add,time_to_add,cycling_to_add,new_route):\n",
    "    if cost_function == 'segments':\n",
    "        return (segment_to_add+new_heuristic, [segment_to_add,distance_to_add,time_to_add,cycling_to_add, new_route])\n",
    "    if cost_function != 'segments' and new_heuristic ==None:\n",
    "        new_heuristic = 0\n",
    "        # return (prev_heuristic, [segment_to_add,distance_to_add,time_to_add,cycling_to_add, new_route])\n",
    "    if cost_function == 'distance':\n",
    "        return (distance_to_add+new_heuristic, [segment_to_add,distance_to_add,time_to_add,cycling_to_add, new_route])\n",
    "    if cost_function == 'time':\n",
    "        return (time_to_add+new_heuristic, [segment_to_add,distance_to_add,time_to_add,cycling_to_add, new_route])\n",
    "    if cost_function == 'cycling':\n",
    "        return (cycling_to_add+new_heuristic, [segment_to_add,distance_to_add,time_to_add,cycling_to_add, new_route])\n",
    "\n",
    "import time\n",
    "def solve(start_city, end_city, cost_function):\n",
    "    fringe = PriorityQueue()\n",
    "    fringe.put((0, [0, 0, 0, 0, [start_city]]))\n",
    "    start = time.time()\n",
    "    while not fringe.empty():\n",
    "        got = fringe.get()\n",
    "        # print(got[0], got[1][4][-1])\n",
    "        result = got[1]\n",
    "        segments_so_far = got[1][0]\n",
    "        distance_so_far = got[1][1]\n",
    "        time_so_far = got[1][2]\n",
    "        cycling_so_far = got[1][3]\n",
    "        route_so_far = got[1][4]\n",
    "        # print(route_so_far)\n",
    "        \n",
    "        current_city = got[1][4][-1]\n",
    "        # print(current_city)\n",
    "        if current_city == end_city:\n",
    "            end = time.time()\n",
    "            print(end-start, fringe.qsize())\n",
    "            return result\n",
    "        con_cities = successors(current_city)\n",
    "        # print(\"con_cities : \",con_cities)\n",
    "        count =0\n",
    "        for city in con_cities:\n",
    "            count +=1 \n",
    "            # total distance travelled so far + distance to the city + h(s)\n",
    "            # print(result[1] , cost_function(city,cost_function) , get_distance(city[0], end_city), city)\n",
    "            # print(city)\n",
    "            new_heuristic = state_heuristic(city,end_city, cost_function)\n",
    "            # print('popped route',route_so_far, city[0])\n",
    "            # new_route = route_so_far\n",
    "            # print(new_route)\n",
    "            # new_route.append(city[0])\n",
    "            if city[0] not in route_so_far:\n",
    "                new_route = route_so_far+[city[0]]\n",
    "                # print(new_route.append(city[0]))\n",
    "                segment_to_add = 1 + segments_so_far\n",
    "                distance_to_add = city[1] + distance_so_far\n",
    "                # print(city[1]/(city[2]+5))\n",
    "                time_to_add = float(float(city[1])/(city[2]+5)) + float(time_so_far)\n",
    "                # print(city[3])\n",
    "                # print(distance_to_add)\n",
    "                cycling_to_add = city[1]*city[2]*0.000001 + cycling_so_far\n",
    "                \n",
    "                # if cost_function != \"segments\" and new_heuristic == 0:\n",
    "                #     blah = got[0]\n",
    "                #     # print(new_heuristic)\n",
    "                #     # distance_so_far += city[1]\n",
    "                #     fringe.put((blah, [segment_to_add,distance_to_add,time_to_add,cycling_to_add,new_route]))\n",
    "                # else:\n",
    "                fringe.put(construct_fringe(got[0],cost_function, new_heuristic, segment_to_add,distance_to_add,time_to_add,cycling_to_add,new_route))"
   ]
  },
  {
   "cell_type": "code",
   "execution_count": 119,
   "metadata": {
    "tags": []
   },
   "outputs": [
    {
     "output_type": "stream",
     "name": "stdout",
     "text": [
      "49.807998180389404 2217190\nwithout tyler's method:\n[51, 1163, 18.719206349206342, 0.06826099999999996, ['Seattle,_Washington', 'Riverton_Heights,_Washington', 'Federal_Way,_Washington', 'Tacoma,_Washington', 'Parkland,_Washington', 'Morton,_Washington', 'Napavine,_Washington', 'Longview,_Washington', 'Salmon_Creek,_Washington', 'Vancouver,_Washington', 'Portland,_Oregon', 'Tigard,_Oregon', 'Tualatin,_Oregon', 'Salem,_Oregon', 'Albany,_Oregon', 'Eugene,_Oregon', 'Goshen,_Oregon', 'Anlauf,_Oregon', 'Sutherlin,_Oregon', 'Roseburg,_Oregon', 'Green,_Oregon', 'Grants_Pass,_Oregon', 'Medford,_Oregon', 'Jct_I-5_&_CA_96,_California', 'Weed,_California', 'Mount_Shasta,_California', 'Redding,_California', 'Red_Bluff,_California', 'Chico,_California', 'Yuba_City,_California', 'Nicolaus,_California', 'Jct_I-5_&_I-80,_California', 'Sacramento,_California', 'Lodi,_California', 'Stockton,_California', 'Manteca,_California', 'Modesto,_California', 'Merced,_California', 'Chowchilla,_California', 'Fresno,_California', 'Visalia,_California', 'Famoso,_California', 'Bakersfield,_California', 'Wheeler_Ridge,_California', 'Jct_I-5_&_CA_138,_California', 'Valencia,_California', 'San_Fernando,_California', 'Jct_I-5_&_CA_118,_California', 'Panorama_City,_California', 'Glendale,_California', 'Jct_I-5_&_CA_2,_California', 'Los_Angeles,_California']]\n"
     ]
    }
   ],
   "source": [
    "result = solve(start_city, end_city, cost_function)\n",
    "print(\"without tyler's method:\")\n",
    "print(result)\n"
   ]
  },
  {
   "cell_type": "code",
   "execution_count": 120,
   "metadata": {},
   "outputs": [
    {
     "output_type": "execute_result",
     "data": {
      "text/plain": [
       "38"
      ]
     },
     "metadata": {},
     "execution_count": 120
    }
   ],
   "source": [
    "291327-291289"
   ]
  },
  {
   "cell_type": "code",
   "execution_count": 121,
   "metadata": {},
   "outputs": [],
   "source": [
    "# tarini's suggestion (prev fringe - cost of successive city if new_heuristic == 0)\n",
    "# city, got[0],cost_function, new_heuristic, segments_so_far,distance_so_far,time_so_far,cycling_so_far,route_so_far\n",
    "def construct_fringe(city, prev_heuristic,cost_function, new_heuristic, segments_so_far,distance_so_far,time_so_far,cycling_so_far,route_so_far):\n",
    "    new_route = route_so_far+[city[0]]\n",
    "    segment_to_add = 1 + segments_so_far\n",
    "    distance_to_add = city[1] + distance_so_far\n",
    "    time_to_add = float(float(city[1])/(city[2]+5)) + float(time_so_far)\n",
    "    cycling_to_add = city[1]*city[2]*0.000001 + cycling_so_far\n",
    "    \n",
    "    distance_to_sub = 0\n",
    "    time_to_sub=0\n",
    "    cycling_to_sub = 0\n",
    "    history = [segment_to_add,distance_to_add,time_to_add,cycling_to_add, new_route]\n",
    "    if new_heuristic == None:\n",
    "        new_heuristic = 0\n",
    "        distance_to_sub = city[1]\n",
    "        time_to_sub=float(float(city[1])/(city[2]+5))\n",
    "        cycling_to_sub = cycling_to_add = city[1]*city[2]*0.000001\n",
    "    if cost_function == 'segments':\n",
    "        return (segment_to_add+new_heuristic, history)\n",
    "    # if cost_function == 'distance' and new_heuristic ==None:\n",
    "    #     # new_heuristic = 0\n",
    "    #     return (prev_heuristic - city[1]\n",
    "        # return (prev_heuristic, [segment_to_add,distance_to_add,time_to_add,cycling_to_add, new_route])\n",
    "    if cost_function == 'distance':\n",
    "        return (distance_to_add+new_heuristic - distance_to_sub, history)\n",
    "    if cost_function == 'time':\n",
    "        return (time_to_add+new_heuristic - time_to_sub,history)\n",
    "    if cost_function == 'cycling':\n",
    "        return (cycling_to_add+new_heuristic - cycling_to_sub, history)\n",
    "\n",
    "import time\n",
    "def solve(start_city, end_city, cost_function):\n",
    "    fringe = PriorityQueue()\n",
    "    fringe.put((0, [0, 0, 0, 0, [start_city]]))\n",
    "    start = time.time()\n",
    "    while not fringe.empty():\n",
    "        got = fringe.get()\n",
    "        # print(got[0], got[1][4][-1])\n",
    "        result = got[1]\n",
    "        segments_so_far = got[1][0]\n",
    "        distance_so_far = got[1][1]\n",
    "        time_so_far = got[1][2]\n",
    "        cycling_so_far = got[1][3]\n",
    "        route_so_far = got[1][4]\n",
    "        # print(route_so_far)\n",
    "        \n",
    "        current_city = got[1][4][-1]\n",
    "        # print(current_city)\n",
    "        if current_city == end_city:\n",
    "            end = time.time()\n",
    "            print(end-start, fringe.qsize())\n",
    "            return result\n",
    "        con_cities = successors(current_city)\n",
    "        # print(\"con_cities : \",con_cities)\n",
    "        count =0\n",
    "        for city in con_cities:\n",
    "            count +=1 \n",
    "            # total distance travelled so far + distance to the city + h(s)\n",
    "            # print(result[1] , cost_function(city,cost_function) , get_distance(city[0], end_city), city)\n",
    "            # print(city)\n",
    "            new_heuristic = state_heuristic(city,end_city, cost_function)\n",
    "            # print('popped route',route_so_far, city[0])\n",
    "            # new_route = route_so_far\n",
    "            # print(new_route)\n",
    "            # new_route.append(city[0])\n",
    "            if city[0] not in route_so_far:\n",
    "                new_route = route_so_far+[city[0]]\n",
    "                # print(new_route.append(city[0]))\n",
    "                segment_to_add = 1 + segments_so_far\n",
    "                distance_to_add = city[1] + distance_so_far\n",
    "                # print(city[1]/(city[2]+5))\n",
    "                time_to_add = float(float(city[1])/(city[2]+5)) + float(time_so_far)\n",
    "                # print(city[3])\n",
    "                # print(distance_to_add)\n",
    "                cycling_to_add = city[1]*city[2]*0.000001 + cycling_so_far\n",
    "                \n",
    "                # if cost_function != \"segments\" and new_heuristic == 0:\n",
    "                #     blah = got[0]\n",
    "                #     # print(new_heuristic)\n",
    "                #     # distance_so_far += city[1]\n",
    "                #     fringe.put((blah, [segment_to_add,distance_to_add,time_to_add,cycling_to_add,new_route]))\n",
    "                # else:\n",
    "                fringe.put(construct_fringe(city, got[0],cost_function, new_heuristic, segments_so_far,distance_so_far,time_so_far,cycling_so_far,route_so_far))"
   ]
  },
  {
   "cell_type": "code",
   "execution_count": 122,
   "metadata": {},
   "outputs": [
    {
     "output_type": "stream",
     "name": "stdout",
     "text": [
      "0.02499866485595703 1553\nTarini's method:\n[54, 1318, 19.86167919799498, 0.08198899999999999, ['Seattle,_Washington', 'Riverton_Heights,_Washington', 'Renton,_Washington', 'Bellevue,_Washington', 'Preston,_Washington', 'North_Bend,_Washington', 'Ellensburg,_Washington', 'Yakima,_Washington', 'Buena,_Washington', 'Maryhill,_Washington', 'Biggs,_Oregon', 'The_Dalles,_Oregon', 'Parkrose,_Oregon', 'Gilbert,_Oregon', 'Tualatin,_Oregon', 'Salem,_Oregon', 'Albany,_Oregon', 'Eugene,_Oregon', 'Goshen,_Oregon', 'Anlauf,_Oregon', 'Sutherlin,_Oregon', 'Roseburg,_Oregon', 'Green,_Oregon', 'Grants_Pass,_Oregon', 'Medford,_Oregon', 'Jct_I-5_&_CA_96,_California', 'Weed,_California', 'Mount_Shasta,_California', 'Redding,_California', 'Red_Bluff,_California', 'Orland,_California', 'Williams,_California', 'Dunnigan,_California', 'Woodland,_California', 'Jct_I-5_&_I-80,_California', 'Sacramento,_California', 'Lodi,_California', 'Stockton,_California', 'Manteca,_California', 'Modesto,_California', 'Merced,_California', 'Chowchilla,_California', 'Fresno,_California', 'Visalia,_California', 'Famoso,_California', 'Bakersfield,_California', 'Wheeler_Ridge,_California', 'Jct_I-5_&_CA_138,_California', 'Valencia,_California', 'San_Fernando,_California', 'Jct_I-5_&_CA_118,_California', 'Panorama_City,_California', 'Glendale,_California', 'Jct_I-5_&_CA_2,_California', 'Los_Angeles,_California']]\n"
     ]
    }
   ],
   "source": [
    "result = solve(start_city, end_city, 'time')\n",
    "print(\"Tarini's method:\")\n",
    "print(result)"
   ]
  },
  {
   "cell_type": "code",
   "execution_count": null,
   "metadata": {},
   "outputs": [],
   "source": []
  },
  {
   "cell_type": "code",
   "execution_count": null,
   "metadata": {},
   "outputs": [],
   "source": []
  }
 ]
}