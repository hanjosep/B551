{
 "metadata": {
  "language_info": {
   "codemirror_mode": {
    "name": "ipython",
    "version": 3
   },
   "file_extension": ".py",
   "mimetype": "text/x-python",
   "name": "python",
   "nbconvert_exporter": "python",
   "pygments_lexer": "ipython3",
   "version": "3.8.5-final"
  },
  "orig_nbformat": 2,
  "kernelspec": {
   "name": "python3",
   "display_name": "Python 3.8.5 64-bit",
   "metadata": {
    "interpreter": {
     "hash": "4fedbdb6e668446f3c96061a3e0973608a7182bb8999eeda9ee69679a98fef9b"
    }
   }
  }
 },
 "nbformat": 4,
 "nbformat_minor": 2,
 "cells": [
  {
   "cell_type": "code",
   "execution_count": 2,
   "metadata": {},
   "outputs": [
    {
     "output_type": "stream",
     "name": "stdout",
     "text": [
      "(1008, 25)\n1008\n(239, 25)\n238\n"
     ]
    }
   ],
   "source": [
    "import numpy as np \n",
    "from PIL import Image, ImageDraw, ImageFont,ImageFilter\n",
    "import sys\n",
    "\n",
    "CHARACTER_WIDTH=14\n",
    "CHARACTER_HEIGHT=25\n",
    "\n",
    "\n",
    "def load_letters(fname):\n",
    "    im = Image.open(fname)\n",
    "    px = im.load()\n",
    "    (x_size, y_size) = im.size\n",
    "    print(im.size)\n",
    "    print(int(x_size / CHARACTER_WIDTH) * CHARACTER_WIDTH)\n",
    "    result = []\n",
    "    for x_beg in range(0, int(x_size / CHARACTER_WIDTH) * CHARACTER_WIDTH, CHARACTER_WIDTH):\n",
    "        result += [ [ \"\".join([ '*' if px[x, y] < 1 else ' ' for x in range(x_beg, x_beg+CHARACTER_WIDTH) ]) for y in range(0, CHARACTER_HEIGHT) ], ]\n",
    "    return result\n",
    "\n",
    "def load_training_letters(fname):\n",
    "    TRAIN_LETTERS=\"ABCDEFGHIJKLMNOPQRSTUVWXYZabcdefghijklmnopqrstuvwxyz0123456789(),.-!?\\\"' \"\n",
    "    letter_images = load_letters(fname)\n",
    "    return { TRAIN_LETTERS[i]: letter_images[i] for i in range(0, len(TRAIN_LETTERS) ) }\n",
    "\n",
    "#####\n",
    "# main program\n",
    "(train_img_fname, train_txt_fname, test_img_fname) = 'courier-train.png', 'corpus.txt', 'test-17-0.png'\n",
    "train_letters = load_training_letters(train_img_fname)\n",
    "test_letters = load_letters(test_img_fname)\n"
   ]
  },
  {
   "cell_type": "code",
   "execution_count": 3,
   "metadata": {
    "tags": []
   },
   "outputs": [],
   "source": [
    "def print_letter(letter):\n",
    "    print(\"\\n\".join([ r for r in letter ]))\n",
    "# print_letter(test_letters[1])"
   ]
  },
  {
   "cell_type": "code",
   "execution_count": 4,
   "metadata": {},
   "outputs": [
    {
     "output_type": "execute_result",
     "data": {
      "text/plain": [
       "'      *       '"
      ]
     },
     "metadata": {},
     "execution_count": 4
    }
   ],
   "source": [
    "a = '* **********  ' \n",
    "b = '      *       '\n",
    "c = ''.join('*' if a[r] == b[r] == '*' else ' ' for r in range(0,len(a)))\n",
    "c"
   ]
  },
  {
   "cell_type": "code",
   "execution_count": 5,
   "metadata": {},
   "outputs": [
    {
     "output_type": "execute_result",
     "data": {
      "text/plain": [
       "[[0, 0, 0, 0, 0, 0, 0, 0, 0, 0, 0, 0, 0, 0],\n",
       " [0, 0, 0, 0, 0, 0, 0, 0, 0, 0, 0, 0, 0, 0],\n",
       " [0, 0, 0, 0, 0, 0, 0, 0, 0, 0, 0, 0, 0, 0],\n",
       " [0, 0, 0, 0, 0, 0, 0, 0, 0, 0, 0, 0, 0, 0],\n",
       " [0, 0, 0, 0, 0, 0, 0, 0, 0, 0, 0, 0, 0, 0],\n",
       " [0, 0, 0, 1, 1, 1, 1, 1, 1, 1, 1, 1, 0, 0],\n",
       " [0, 0, 0, 0, 0, 0, 1, 1, 0, 0, 0, 0, 0, 0],\n",
       " [0, 0, 0, 0, 0, 0, 0, 1, 0, 0, 0, 0, 0, 0],\n",
       " [0, 0, 0, 0, 0, 0, 0, 1, 0, 0, 0, 0, 0, 0],\n",
       " [0, 0, 0, 0, 0, 0, 0, 1, 0, 0, 0, 0, 0, 0],\n",
       " [0, 0, 0, 0, 0, 0, 0, 1, 0, 0, 0, 0, 0, 0],\n",
       " [0, 0, 0, 0, 0, 0, 0, 1, 0, 0, 0, 0, 0, 0],\n",
       " [0, 0, 0, 0, 0, 0, 0, 1, 0, 0, 0, 0, 0, 0],\n",
       " [0, 0, 0, 0, 0, 0, 0, 1, 0, 0, 0, 0, 0, 0],\n",
       " [0, 0, 0, 0, 0, 0, 0, 1, 0, 0, 0, 0, 0, 0],\n",
       " [0, 0, 0, 0, 0, 0, 0, 1, 0, 0, 0, 0, 0, 0],\n",
       " [0, 0, 0, 0, 0, 0, 0, 1, 0, 0, 0, 0, 0, 0],\n",
       " [0, 0, 0, 0, 0, 0, 1, 1, 0, 0, 0, 0, 0, 0],\n",
       " [0, 0, 0, 1, 1, 1, 1, 1, 1, 1, 1, 1, 0, 0],\n",
       " [0, 0, 0, 0, 0, 0, 0, 0, 0, 0, 0, 0, 0, 0],\n",
       " [0, 0, 0, 0, 0, 0, 0, 0, 0, 0, 0, 0, 0, 0],\n",
       " [0, 0, 0, 0, 0, 0, 0, 0, 0, 0, 0, 0, 0, 0],\n",
       " [0, 0, 0, 0, 0, 0, 0, 0, 0, 0, 0, 0, 0, 0],\n",
       " [0, 0, 0, 0, 0, 0, 0, 0, 0, 0, 0, 0, 0, 0],\n",
       " [0, 0, 0, 0, 0, 0, 0, 0, 0, 0, 0, 0, 0, 0]]"
      ]
     },
     "metadata": {},
     "execution_count": 5
    }
   ],
   "source": [
    "\n",
    "# test_letters[0]\n",
    "one_letter = test_letters[0]\n",
    "one_letter\n",
    "one_train = train_letters['I']\n",
    "# train_letters\n",
    "def convert_to_binary(letter):\n",
    "    result = []\n",
    "    for line in letter:\n",
    "        newl = []\n",
    "        for dot in line:\n",
    "            newl.append(1 if dot == '*' else 0)\n",
    "        result.append(newl)\n",
    "    return result\n",
    "convert_to_binary(one_letter)\n",
    "# one_train"
   ]
  },
  {
   "cell_type": "code",
   "execution_count": 6,
   "metadata": {},
   "outputs": [],
   "source": [
    "def blur(a):\n",
    "    # kernel = np.array([[1.0,2.0,1.0], [2.0,4.0,2.0], [1.0,2.0,1.0]])\n",
    "    # kernel = kernel / np.sum(kernel)\n",
    "    kernel = np.array([[1.,1.],[1.,1.]])\n",
    "    kernel = kernel / np.sum(kernel)\n",
    "    arraylist = []\n",
    "    print(len(kernel[1]))\n",
    "    for y in range(len(kernel)):\n",
    "        temparray = np.copy(a)\n",
    "        temparray = np.roll(temparray, y - 1, axis=0)\n",
    "        for x in range(len(kernel[0])):\n",
    "            temparray_X = np.copy(temparray)\n",
    "            temparray_X = np.roll(temparray_X, x - 1, axis=1)*kernel[y,x]\n",
    "            arraylist.append(temparray_X)\n",
    "\n",
    "    arraylist = np.array(arraylist)\n",
    "    arraylist_sum = np.sum(arraylist, axis=0)\n",
    "    return arraylist_sum\n",
    "    \n"
   ]
  },
  {
   "cell_type": "code",
   "execution_count": 7,
   "metadata": {},
   "outputs": [
    {
     "output_type": "stream",
     "name": "stdout",
     "text": [
      "2\n"
     ]
    },
    {
     "output_type": "error",
     "ename": "NameError",
     "evalue": "name 'train_conv' is not defined",
     "traceback": [
      "\u001b[1;31m---------------------------------------------------------------------------\u001b[0m",
      "\u001b[1;31mNameError\u001b[0m                                 Traceback (most recent call last)",
      "\u001b[1;32m<ipython-input-7-ae70b453457f>\u001b[0m in \u001b[0;36m<module>\u001b[1;34m\u001b[0m\n\u001b[0;32m     17\u001b[0m \u001b[0mnewarray\u001b[0m \u001b[1;33m=\u001b[0m \u001b[0mnp\u001b[0m\u001b[1;33m.\u001b[0m\u001b[0marray\u001b[0m\u001b[1;33m(\u001b[0m\u001b[0mnewarray\u001b[0m\u001b[1;33m)\u001b[0m\u001b[1;33m\u001b[0m\u001b[1;33m\u001b[0m\u001b[0m\n\u001b[0;32m     18\u001b[0m \u001b[0mnewarray\u001b[0m\u001b[1;33m\u001b[0m\u001b[1;33m\u001b[0m\u001b[0m\n\u001b[1;32m---> 19\u001b[1;33m \u001b[0mnp\u001b[0m\u001b[1;33m.\u001b[0m\u001b[0msum\u001b[0m\u001b[1;33m(\u001b[0m\u001b[0mnp\u001b[0m\u001b[1;33m.\u001b[0m\u001b[0mbitwise_xor\u001b[0m\u001b[1;33m(\u001b[0m\u001b[0mtrain_conv\u001b[0m\u001b[1;33m,\u001b[0m\u001b[0mnewarray\u001b[0m\u001b[1;33m)\u001b[0m\u001b[1;33m)\u001b[0m\u001b[1;33m\u001b[0m\u001b[1;33m\u001b[0m\u001b[0m\n\u001b[0m\u001b[0;32m     20\u001b[0m \u001b[0mtrain_conv\u001b[0m \u001b[1;33m=\u001b[0m \u001b[0mnp\u001b[0m\u001b[1;33m.\u001b[0m\u001b[0marray\u001b[0m\u001b[1;33m(\u001b[0m\u001b[0mconvert_to_binary\u001b[0m\u001b[1;33m(\u001b[0m\u001b[0mone_train\u001b[0m\u001b[1;33m)\u001b[0m\u001b[1;33m)\u001b[0m\u001b[1;33m\u001b[0m\u001b[1;33m\u001b[0m\u001b[0m\n\u001b[0;32m     21\u001b[0m \u001b[0mplt\u001b[0m\u001b[1;33m.\u001b[0m\u001b[0mimshow\u001b[0m\u001b[1;33m(\u001b[0m\u001b[0mnp\u001b[0m\u001b[1;33m.\u001b[0m\u001b[0mbitwise_xor\u001b[0m\u001b[1;33m(\u001b[0m\u001b[0mtrain_conv\u001b[0m\u001b[1;33m,\u001b[0m\u001b[0mnewarray\u001b[0m\u001b[1;33m)\u001b[0m\u001b[1;33m)\u001b[0m\u001b[1;33m\u001b[0m\u001b[1;33m\u001b[0m\u001b[0m\n",
      "\u001b[1;31mNameError\u001b[0m: name 'train_conv' is not defined"
     ]
    }
   ],
   "source": [
    "blur_ex= blur(convert_to_binary(one_letter))\n",
    "# %matplotlib inline\n",
    "# from matplotlib import pyplot as plt\n",
    "# # plt.imshow(blur_ex)\n",
    "# # plt.show()\n",
    "# plt.imshow(np.subtract(convert_to_binary(one_train), blur_ex))\n",
    "# plt.show()\n",
    "blur_ex\n",
    "newarray = np.array([])\n",
    "newarray = []\n",
    "for line in list(blur_ex):\n",
    "    # print(line)\n",
    "    newl = []\n",
    "    for dot in line:\n",
    "        newl.append(round(dot+0.3))\n",
    "    newarray.append(newl)\n",
    "newarray = np.array(newarray)\n",
    "newarray\n",
    "np.sum(np.bitwise_xor(train_conv,newarray))\n",
    "train_conv = np.array(convert_to_binary(one_train))\n",
    "plt.imshow(np.bitwise_xor(train_conv,newarray))\n",
    "# np.bitwise_xor([1,1,1],[1,0,0])"
   ]
  },
  {
   "cell_type": "code",
   "execution_count": 8,
   "metadata": {},
   "outputs": [
    {
     "output_type": "execute_result",
     "data": {
      "text/plain": [
       "array([[1., 0.],\n",
       "       [0., 1.]])"
      ]
     },
     "metadata": {},
     "execution_count": 8
    }
   ],
   "source": [
    "np.eye(2)"
   ]
  },
  {
   "cell_type": "code",
   "execution_count": 9,
   "metadata": {},
   "outputs": [
    {
     "output_type": "execute_result",
     "data": {
      "text/plain": [
       "(324, 26)"
      ]
     },
     "metadata": {},
     "execution_count": 9
    }
   ],
   "source": [
    "def count_matched_dots(test,train):\n",
    "    # output = 0\n",
    "    matched = 0\n",
    "    mismatched= 0\n",
    "    for i in range(0, len(test)):\n",
    "        test_line = test[i]\n",
    "        train_line = train[i]\n",
    "        for r in range(0, len(test_line)):\n",
    "            if test_line[r] == train_line[r]:\n",
    "                matched += 1\n",
    "            else:\n",
    "                mismatched +=1\n",
    "    return matched, mismatched\n",
    "count_matched_dots(one_letter, one_train)"
   ]
  },
  {
   "cell_type": "code",
   "execution_count": 10,
   "metadata": {
    "tags": []
   },
   "outputs": [
    {
     "output_type": "error",
     "ename": "KeyError",
     "evalue": "'10'",
     "traceback": [
      "\u001b[1;31m---------------------------------------------------------------------------\u001b[0m",
      "\u001b[1;31mKeyError\u001b[0m                                  Traceback (most recent call last)",
      "\u001b[1;32m<ipython-input-10-9058346f4e10>\u001b[0m in \u001b[0;36m<module>\u001b[1;34m\u001b[0m\n\u001b[0;32m     11\u001b[0m     \u001b[1;32mreturn\u001b[0m \u001b[0memission_prob\u001b[0m\u001b[1;33m\u001b[0m\u001b[1;33m\u001b[0m\u001b[0m\n\u001b[0;32m     12\u001b[0m \u001b[1;33m\u001b[0m\u001b[0m\n\u001b[1;32m---> 13\u001b[1;33m \u001b[0mlen\u001b[0m\u001b[1;33m(\u001b[0m\u001b[0mcreate_emission\u001b[0m\u001b[1;33m(\u001b[0m\u001b[0mtest_letters\u001b[0m\u001b[1;33m)\u001b[0m\u001b[1;33m)\u001b[0m\u001b[1;33m\u001b[0m\u001b[1;33m\u001b[0m\u001b[0m\n\u001b[0m",
      "\u001b[1;32m<ipython-input-10-9058346f4e10>\u001b[0m in \u001b[0;36mcreate_emission\u001b[1;34m(test_letters)\u001b[0m\n\u001b[0;32m      8\u001b[0m             \u001b[1;31m# print(letter)\u001b[0m\u001b[1;33m\u001b[0m\u001b[1;33m\u001b[0m\u001b[1;33m\u001b[0m\u001b[0m\n\u001b[0;32m      9\u001b[0m             \u001b[1;31m# print(train_letters)\u001b[0m\u001b[1;33m\u001b[0m\u001b[1;33m\u001b[0m\u001b[1;33m\u001b[0m\u001b[0m\n\u001b[1;32m---> 10\u001b[1;33m             \u001b[0memission_prob\u001b[0m\u001b[1;33m[\u001b[0m\u001b[0mletter\u001b[0m\u001b[1;33m]\u001b[0m\u001b[1;33m.\u001b[0m\u001b[0mappend\u001b[0m\u001b[1;33m(\u001b[0m\u001b[0mcount_matched_dots\u001b[0m\u001b[1;33m(\u001b[0m\u001b[0mtrain_letters\u001b[0m\u001b[1;33m[\u001b[0m\u001b[0mstr\u001b[0m\u001b[1;33m(\u001b[0m\u001b[0mi\u001b[0m\u001b[1;33m)\u001b[0m\u001b[1;33m]\u001b[0m\u001b[1;33m,\u001b[0m \u001b[0mtest_letters\u001b[0m\u001b[1;33m[\u001b[0m\u001b[0mi\u001b[0m\u001b[1;33m]\u001b[0m\u001b[1;33m)\u001b[0m\u001b[1;33m)\u001b[0m\u001b[1;33m\u001b[0m\u001b[1;33m\u001b[0m\u001b[0m\n\u001b[0m\u001b[0;32m     11\u001b[0m     \u001b[1;32mreturn\u001b[0m \u001b[0memission_prob\u001b[0m\u001b[1;33m\u001b[0m\u001b[1;33m\u001b[0m\u001b[0m\n\u001b[0;32m     12\u001b[0m \u001b[1;33m\u001b[0m\u001b[0m\n",
      "\u001b[1;31mKeyError\u001b[0m: '10'"
     ]
    }
   ],
   "source": [
    "def create_emission(test_letters):\n",
    "    TRAIN_LETTERS=\"ABCDEFGHIJKLMNOPQRSTUVWXYZabcdefghijklmnopqrstuvwxyz0123456789(),.-!?\\\"' \"\n",
    "\n",
    "    emission_prob = {l:[] for l in TRAIN_LETTERS}\n",
    "    for u in range(0, len(test_letters)):\n",
    "        for i in range(0,len(TRAIN_LETTERS)):\n",
    "            letter = TRAIN_LETTERS[i]\n",
    "            # print(letter)\n",
    "            # print(train_letters)\n",
    "            emission_prob[letter].append(count_matched_dots(train_letters[str(i)], test_letters[i]))\n",
    "    return emission_prob\n",
    "\n",
    "len(create_emission(test_letters))\n"
   ]
  },
  {
   "cell_type": "code",
   "execution_count": 27,
   "metadata": {
    "tags": []
   },
   "outputs": [
    {
     "output_type": "execute_result",
     "data": {
      "text/plain": [
       "'It is so ordered '"
      ]
     },
     "metadata": {},
     "execution_count": 27
    }
   ],
   "source": [
    "\n",
    "\n",
    "# testing_letter difference between one of the train_letters. \n",
    "def matched_dots(test, train):\n",
    "    output= []\n",
    "    for i in range(0, len(test)):\n",
    "        test_line = test[i]\n",
    "        train_line = train[i]\n",
    "        new_line = ''.join('*' if test_line[r] == train_line[r] else ' ' for r in range(0, len(test_line)))\n",
    "        output.append(new_line)\n",
    "    return output\n",
    "\n",
    "\n",
    "\n",
    "ccc= matched_dots(one_letter,one_train)\n",
    "\n",
    "# count how many dots are shown on the letter, \n",
    "# usually after calculating the xor between these two. \n",
    "def count_dots(letter):\n",
    "    total = 0\n",
    "    for line in letter:\n",
    "        for dot in line:\n",
    "            if dot =='*':\n",
    "                total += 1\n",
    "        # total += 1 if dot == '*' else 0 for dot in line\n",
    "    return total\n",
    "\n",
    "count_dots(ccc)\n",
    "import math\n",
    "# one_letter\n",
    "# one_train\n",
    "def simple_letter(letter, noise_level):\n",
    "    # print(remaining_dots(letter))\n",
    "    maxval = 0\n",
    "    likely_letter = ''\n",
    "    letter_dict = {}\n",
    "    for l, v in train_letters.items():\n",
    "        xord = matched_dots(letter, v)\n",
    "        # try:        \n",
    "            # letter_dict[l] = remaining_dots(xord) / (14*25)\n",
    "        # matched = count_dots(xord)/(14*25)\n",
    "        matched = count_dots(xord)\n",
    "        # letter_dict[l] = count_dots(xord)\n",
    "        # letter_dict[l] = (noise_level*(1 - matched))*((1-noise_level)*(matched))\n",
    "        # letter_dict[l] = math.pow((14*25)-matched,noise_level) *math.pow(matched, 1-noise_level)\n",
    "        letter_dict[l] = math.pow(noise_level,(14*25)-matched) *math.pow(1-noise_level,matched)\n",
    "        # except:\n",
    "        #     letter_dict[l] = 0\n",
    "    \n",
    "        if maxval < count_dots(xord):\n",
    "            maxval = count_dots(xord)\n",
    "            likely_letter = l\n",
    "    # for letter in letter_dict:\n",
    "        # letter_dict[letter] = letter_dict[letter] / sum(letter_dict.values())\n",
    "    return likely_letter,letter_dict\n",
    "\n",
    "def decipher(scan, command):\n",
    "    output_simple = ''\n",
    "    scan_prob = []\n",
    "    for letter in scan:\n",
    "        scan_prob.append(simple_letter(letter,0.41))\n",
    "    if command == 'simple':\n",
    "        # return ''.join([max(e[1], key =e[1].get) for e in scan_prob])\n",
    "        return ''.join([e[0] for e in scan_prob])\n",
    "    if command == 'HMM':\n",
    "        return ''.join(viterbi([e[1] for e in scan_prob]))\n",
    "        # return [max(e[1], key =e[1].get) for e in scan_prob]\n",
    "        # return scan_prob\n",
    "y = decipher(test_letters, 'HMM')\n",
    "# max(y.values())- min(y.values())\n",
    "# ccc\n",
    "# max(y[0], 3)\n",
    "# space = y[2]\n",
    "y\n",
    "\n",
    "# sorted(space, key=space.get, reverse=True)[:4]\n",
    "# ['K', 'B', 'A']\n",
    "# max(space.values())\n",
    "# min(space.values())\n"
   ]
  },
  {
   "cell_type": "code",
   "execution_count": 12,
   "metadata": {},
   "outputs": [
    {
     "output_type": "execute_result",
     "data": {
      "text/plain": [
       "1024.0"
      ]
     },
     "metadata": {},
     "execution_count": 12
    }
   ],
   "source": [
    "math.pow(2,10)"
   ]
  },
  {
   "cell_type": "code",
   "execution_count": 25,
   "metadata": {
    "tags": []
   },
   "outputs": [
    {
     "output_type": "execute_result",
     "data": {
      "text/plain": [
       "'1t is so ordered '"
      ]
     },
     "metadata": {},
     "execution_count": 25
    }
   ],
   "source": [
    "\n",
    "# len(x)\n",
    "def viterbi(scan_prob):\n",
    "    keys = \"ABCDEFGHIJKLMNOPQRSTUVWXYZabcdefghijklmnopqrstuvwxyz0123456789(),.-!?\\\"' \"\n",
    "    V= [{}]\n",
    "    for st in keys:\n",
    "        first_letter = scan_prob[0]\n",
    "        # print(first_letter[st])\n",
    "        # print(init_prob[st])\n",
    "        # V[0][st] = {'prob':init_prob[st] * first_letter[st], 'prev' : None}\n",
    "        # print(math.log(init_prob[st]))\n",
    "        # print(math.log(first_letter[st]))\n",
    "        V[0][st] = {'prob':math.log(init_prob[st]) + math.log(first_letter[st]), 'prev' : None}\n",
    "    for t in range(1, len(scan_prob)):\n",
    "        V.append({})\n",
    "        for st in keys:\n",
    "            # print(trans_prob['A'])\n",
    "            # print()\n",
    "            # print( math.log(trans_prob[keys[0]][st]))\n",
    "            # max_tr_prob = V[t-1][keys[0]]['prob'] * trans_prob[keys[0]][st]\n",
    "            max_tr_prob = V[t-1][keys[0]]['prob'] + math.log(trans_prob[keys[0]][st])\n",
    "            prev_st_selected = keys[0]\n",
    "            for prev_st in keys[1:]:\n",
    "                # tr_prob = V[t-1][prev_st]['prob'] * trans_prob[prev_st][st]\n",
    "                tr_prob = V[t-1][prev_st]['prob'] + math.log(trans_prob[prev_st][st])\n",
    "                if tr_prob > max_tr_prob:\n",
    "                    max_tr_prob= tr_prob\n",
    "                    prev_st_selected = prev_st\n",
    "            # max_prob = max_tr_prob * scan_prob[t][st]\n",
    "            max_prob = max_tr_prob + math.log(scan_prob[t][st])\n",
    "            V[t][st] = {'prob': max_prob, 'prev': prev_st_selected}\n",
    "    \n",
    "    \n",
    "    opt_prob = []\n",
    "    opt = []\n",
    "    max_prob = 0.0\n",
    "    previous = None\n",
    "    total_prob = 0\n",
    "    for st, data in V[-1].items():\n",
    "        best_st = st\n",
    "        total_prob += data['prob']\n",
    "        if data['prob']> max_prob:\n",
    "            max_prob = data['prob']\n",
    "            best_st = st\n",
    "    opt.append(best_st)\n",
    "    try:    \n",
    "        # print(total_prob)\n",
    "        opt_prob.append(max_prob/total_prob)\n",
    "    except:\n",
    "        opt_prob.append(0)\n",
    "    previous = best_st\n",
    "\n",
    "    for t in range(len(V) - 2, -1, -1):\n",
    "        total_prob = 0\n",
    "        opt.insert(0, V[t+1][previous]['prev'])\n",
    "        for st, data in V[t+1].items():\n",
    "            total_prob += data['prob']\n",
    "        try:\n",
    "            opt_prob.insert(0, V[t+1][previous]['prob']/total_prob)\n",
    "        except:\n",
    "            \n",
    "            opt_prob.insert(0,0)\n",
    "        previous = V[t+1][previous]['prev']\n",
    "    # print(V)\n",
    "    return opt\n",
    "x = decipher(test_letters, 'HMM')\n",
    "x"
   ]
  },
  {
   "cell_type": "code",
   "execution_count": 24,
   "metadata": {},
   "outputs": [
    {
     "output_type": "error",
     "ename": "TypeError",
     "evalue": "simple_letter() missing 1 required positional argument: 'noise_level'",
     "traceback": [
      "\u001b[1;31m---------------------------------------------------------------------------\u001b[0m",
      "\u001b[1;31mTypeError\u001b[0m                                 Traceback (most recent call last)",
      "\u001b[1;32m<ipython-input-24-fecdd0e99fda>\u001b[0m in \u001b[0;36m<module>\u001b[1;34m\u001b[0m\n\u001b[0;32m      2\u001b[0m \u001b[1;33m\u001b[0m\u001b[0m\n\u001b[0;32m      3\u001b[0m \u001b[1;31m# test_letters[0] is ideally 1.\u001b[0m\u001b[1;33m\u001b[0m\u001b[1;33m\u001b[0m\u001b[1;33m\u001b[0m\u001b[0m\n\u001b[1;32m----> 4\u001b[1;33m \u001b[0mares\u001b[0m \u001b[1;33m=\u001b[0m \u001b[0msimple_letter\u001b[0m\u001b[1;33m(\u001b[0m\u001b[0mtest_letters\u001b[0m\u001b[1;33m[\u001b[0m\u001b[1;36m0\u001b[0m\u001b[1;33m]\u001b[0m\u001b[1;33m)\u001b[0m\u001b[1;33m[\u001b[0m\u001b[1;36m1\u001b[0m\u001b[1;33m]\u001b[0m\u001b[1;33m\u001b[0m\u001b[1;33m\u001b[0m\u001b[0m\n\u001b[0m\u001b[0;32m      5\u001b[0m \u001b[1;31m# min(ares,key=ares.get)\u001b[0m\u001b[1;33m\u001b[0m\u001b[1;33m\u001b[0m\u001b[1;33m\u001b[0m\u001b[0m\n\u001b[0;32m      6\u001b[0m \u001b[0mares\u001b[0m\u001b[1;33m\u001b[0m\u001b[1;33m\u001b[0m\u001b[0m\n",
      "\u001b[1;31mTypeError\u001b[0m: simple_letter() missing 1 required positional argument: 'noise_level'"
     ]
    }
   ],
   "source": [
    "\n",
    "# simple_decipher(test_letters)\n",
    "\n",
    "# test_letters[0] is ideally 1. \n",
    "ares = simple_letter(test_letters[0])[1]\n",
    "# min(ares,key=ares.get)\n",
    "ares\n",
    "    # print(v)\n",
    "\n",
    "# CHARACTER_WIDTH=14\n",
    "# CHARACTER_HEIGHT=25\n",
    "# 14 *25\n",
    "# print_letter(one_letter)\n",
    "# for i in range(0, len(test_letters)):\n",
    "#     print_letter(test_letters[i])\n",
    "    # for "
   ]
  },
  {
   "cell_type": "code",
   "execution_count": 15,
   "metadata": {},
   "outputs": [],
   "source": [
    "# def train(data):\n",
    "    \n",
    "#     total_word = 0\n",
    "#     total_sentences=  len(data)\n",
    "#     for spair in data:\n",
    "#         prev_pos = None \n",
    "#         total_word += len(spair[0])\n",
    "#         # for each new sentence, check which pos is used at the beginning of the sentence.\n",
    "#         init_prob[spair[1][0]] += 1\n",
    "#         for i in range(0, len(spair[0])):\n",
    "#             word = str(spair[0][i])\n",
    "#             pos = spair[1][i]\n",
    "#             update_word_prob(word,pos,word_dict)\n",
    "#             prev_pos,trans_prob= update_trans_prob(pos, prev_pos, trans_prob)\n",
    "#     word_dict =finalize_word_dict(word_dict, total_word)\n",
    "#     total_word = total_word\n",
    "#     total_trans = total_word - total_sentences\n",
    "#     trans_prob = finalize_trans_dict(trans_prob, total_trans)\n",
    "#     finalize_init_dict(init_prob, total_sentences)"
   ]
  },
  {
   "cell_type": "code",
   "execution_count": 16,
   "metadata": {},
   "outputs": [],
   "source": [
    "# read in encoded text, convert to lowercase, remove other characters\n",
    "#  (except spaces)\n",
    "def read_clean_file(filename):\n",
    "    with open(filename, \"r\") as file:\n",
    "        return \"\".join([ (\"\".join( [ i if i.islower() or i == ' ' else '' for i in line ] ) + \" \") for line in file ] )\n",
    "\n",
    "def read_data(fname):\n",
    "    exemplars = []\n",
    "    file = open(fname, 'r')\n",
    "    for line in file:\n",
    "        data = tuple([w for w in line.split()])\n",
    "        exemplars += [ (data[0::2], data[1::2]), ]\n",
    "\n",
    "    return exemplars\n",
    "ax = read_data('bc.train')\n",
    "# def train(data):\n",
    "    # for spair in dat"
   ]
  },
  {
   "cell_type": "code",
   "execution_count": 17,
   "metadata": {
    "tags": []
   },
   "outputs": [],
   "source": [
    "def readfile(file):\n",
    "    final_list = []\n",
    "    with open(file,'rt', encoding = 'utf-8') as this_file:\n",
    "        for line in this_file:\n",
    "            # print(line)\n",
    "            if len(line) >1:\n",
    "                final_list.append(line.rstrip())\n",
    "        # contents = this_file.read()\n",
    "    # print(contents)\n",
    "    return final_list\n",
    "rfile = readfile('dickens.txt')\n",
    "# rfile[0]"
   ]
  },
  {
   "cell_type": "code",
   "execution_count": 18,
   "metadata": {},
   "outputs": [],
   "source": [
    "def train2(data):\n",
    "    TRAIN_LETTERS=\"ABCDEFGHIJKLMNOPQRSTUVWXYZabcdefghijklmnopqrstuvwxyz0123456789(),.-!?\\\"' \"\n",
    "    # alphabet = 'ABCDEFGHIJKLMNOPQRSTUVWXYZabcdefghijklmnopqrstuvwxyz'\n",
    "    init_prob = {l : 0 for l in TRAIN_LETTERS}\n",
    "    trans_prob = {l:{l2:0 for l2 in TRAIN_LETTERS} for l in TRAIN_LETTERS}\n",
    "    # return trans_prob\n",
    "    total_sentences = len(data)\n",
    "    # total_letters = 0\n",
    "    prev = data[0][0]\n",
    "    # print(prev)\n",
    "    for line in data:\n",
    "        # print(line)\n",
    "        for word in line.split():\n",
    "            try:\n",
    "                init_prob[word[0]] += 1\n",
    "            except:\n",
    "                pass         \n",
    "        for letter in line:\n",
    "            # print(prev)\n",
    "            if prev != None:\n",
    "                try:\n",
    "                    trans_prob[prev][letter] += 1\n",
    "                    prev = letter\n",
    "                except:\n",
    "                    prev = letter\n",
    "            else:\n",
    "                prev = letter\n",
    "            \n",
    "   \n",
    "    \n",
    "    for start_letter in trans_prob:\n",
    "        trans_sum = sum(trans_prob[start_letter].values())\n",
    "        if trans_sum == 0:\n",
    "            trans_sum =1\n",
    "        for transition in trans_prob[start_letter]:\n",
    "            if trans_prob[start_letter][transition] == 0:\n",
    "                trans_prob[start_letter][transition] = 0.5/ trans_sum\n",
    "            else:\n",
    "                trans_prob[start_letter][transition] =trans_prob[start_letter][transition]/ trans_sum\n",
    "            \n",
    "    total_letters = sum(init_prob.values())\n",
    "    for letter in init_prob:\n",
    "        if init_prob[letter] == 0:\n",
    "            init_prob[letter]= 0.1 / total_letters\n",
    "        else:\n",
    "            init_prob[letter] = init_prob[letter] / total_letters\n",
    "    return init_prob, trans_prob"
   ]
  },
  {
   "cell_type": "code",
   "execution_count": 23,
   "metadata": {
    "tags": []
   },
   "outputs": [
    {
     "output_type": "execute_result",
     "data": {
      "text/plain": [
       "{'A': 0.00479018123220238,\n",
       " 'B': 0.003149305019020919,\n",
       " 'C': 0.004944703207434714,\n",
       " 'D': 0.0063206846059321725,\n",
       " 'E': 0.001942561974349352,\n",
       " 'F': 0.0027151718505110264,\n",
       " 'G': 0.0020750093816913535,\n",
       " 'H': 0.005312612672273607,\n",
       " 'I': 0.0148488260008977,\n",
       " 'J': 0.0018616218920847957,\n",
       " 'K': 0.0003016857611678918,\n",
       " 'L': 0.005614298433441499,\n",
       " 'M': 0.010956343862902217,\n",
       " 'N': 0.0016408762131814602,\n",
       " 'O': 0.001515786995136237,\n",
       " 'P': 0.0032743942370661427,\n",
       " 'Q': 0.00013980559663877913,\n",
       " 'R': 0.001015430122955343,\n",
       " 'S': 0.005452418268912386,\n",
       " 'T': 0.010213166743927655,\n",
       " 'U': 0.00035319308624533674,\n",
       " 'V': 0.0005812969544454501,\n",
       " 'W': 0.0026563063361368035,\n",
       " 'X': 0.00030904395046466964,\n",
       " 'Y': 0.0014789960486523476,\n",
       " 'Z': 7.358189296777849e-07,\n",
       " 'a': 0.11037283945166773,\n",
       " 'b': 0.039417820062838935,\n",
       " 'c': 0.03267771866699043,\n",
       " 'd': 0.028549774471498052,\n",
       " 'e': 0.01535654106237537,\n",
       " 'f': 0.03366371603275866,\n",
       " 'g': 0.014495632914652362,\n",
       " 'h': 0.07947580259449755,\n",
       " 'i': 0.051301295777135165,\n",
       " 'j': 0.001508428805839459,\n",
       " 'k': 0.006033715223357836,\n",
       " 'l': 0.024473337601083126,\n",
       " 'm': 0.03495139915969478,\n",
       " 'n': 0.020588213652384422,\n",
       " 'o': 0.06035186861217191,\n",
       " 'p': 0.024988410851857573,\n",
       " 'q': 0.0020676511923945757,\n",
       " 'r': 0.01991126023708086,\n",
       " 's': 0.06356739733486384,\n",
       " 't': 0.14235153013546425,\n",
       " 'u': 0.011419909788599221,\n",
       " 'v': 0.004738673907124935,\n",
       " 'w': 0.06737158120129798,\n",
       " 'x': 7.358189296777849e-07,\n",
       " 'y': 0.014716378593555698,\n",
       " 'z': 1.4716378593555698e-05,\n",
       " '0': 7.358189296777849e-07,\n",
       " '1': 0.00032376032905822536,\n",
       " '2': 5.150732507744494e-05,\n",
       " '3': 2.9432757187111397e-05,\n",
       " '4': 3.679094648388924e-05,\n",
       " '5': 3.679094648388924e-05,\n",
       " '6': 1.4716378593555698e-05,\n",
       " '7': 7.358189296777849e-07,\n",
       " '8': 1.4716378593555698e-05,\n",
       " '9': 3.679094648388924e-05,\n",
       " '(': 0.001081653826626344,\n",
       " ')': 7.358189296777849e-07,\n",
       " ',': 7.358189296777849e-07,\n",
       " '.': 7.358189296777849e-07,\n",
       " '-': 5.8865514374222794e-05,\n",
       " '!': 7.358189296777849e-07,\n",
       " '?': 7.358189296777849e-07,\n",
       " '\"': 7.358189296777849e-07,\n",
       " \"'\": 0.000485640493587338,\n",
       " ' ': 7.358189296777849e-07}"
      ]
     },
     "metadata": {},
     "execution_count": 23
    }
   ],
   "source": [
    "init_prob, trans_prob= train2(rfile)\n",
    "# sum(tran[' '].values())\n",
    "# sum(init.values())\n",
    "# init_prob\n",
    "trans_prob['T']\n",
    "init_prob"
   ]
  },
  {
   "cell_type": "code",
   "execution_count": 20,
   "metadata": {
    "tags": []
   },
   "outputs": [
    {
     "output_type": "execute_result",
     "data": {
      "text/plain": [
       "1.0003517895380853"
      ]
     },
     "metadata": {},
     "execution_count": 20
    }
   ],
   "source": [
    "# bc.train is separated by sentence. this will be used to train the initial letter probability. \n",
    "\n",
    "\n",
    "\n",
    "def train(data):\n",
    "    TRAIN_LETTERS=\"ABCDEFGHIJKLMNOPQRSTUVWXYZabcdefghijklmnopqrstuvwxyz0123456789(),.-!?\\\"' \"\n",
    "    # alphabet = 'ABCDEFGHIJKLMNOPQRSTUVWXYZabcdefghijklmnopqrstuvwxyz'\n",
    "    init_prob = {l : 0 for l in TRAIN_LETTERS}\n",
    "    trans_prob = {l:{l2:0 for l2 in TRAIN_LETTERS} for l in TRAIN_LETTERS}\n",
    "    # return trans_prob\n",
    "    letter_dict= {l:0 for l in TRAIN_LETTERS}\n",
    "    total_sentences = len(data)\n",
    "    total_letters = 0\n",
    "    for spair in data:\n",
    "        words = spair[0]\n",
    "        first_word = spair[0][0]\n",
    "        # print(first_word)\n",
    "        first_letter= first_word[0]\n",
    "        try:\n",
    "            init_prob[first_letter] += 1\n",
    "        except:\n",
    "            if first_letter == '`':\n",
    "                init_prob['\"'] += 1\n",
    "\n",
    "        # update transition probability \n",
    "        prev = None\n",
    "        for word in words:\n",
    "            for letter in word:\n",
    "                try:\n",
    "                    if letter == \"'\":\n",
    "                        # print('ture')\n",
    "                        pass\n",
    "                    else:\n",
    "                        letter_dict[letter] += 1\n",
    "                except:\n",
    "                    pass\n",
    "                if prev != None:\n",
    "                    total_letters += 1\n",
    "                    try:\n",
    "                        if letter == \"'\":\n",
    "                            pass\n",
    "                        else:\n",
    "                            trans_prob[prev][letter]+= 1\n",
    "                        # prev = letter\n",
    "                    except:\n",
    "                        # print(letter)\n",
    "\n",
    "                        # pass\n",
    "                        # prev = '\"'\n",
    "                        pass\n",
    "                # if prev == '`':\n",
    "                #     prev = '\"'\n",
    "                if prev !='\"':\n",
    "                    prev = letter \n",
    "                # print(prev)\n",
    "            prev = ' '\n",
    "        \n",
    "    # finalize the init_prob by dividing by the number of sentences:\n",
    "    init_sum = sum(init_prob.values())\n",
    "    for item in init_prob:\n",
    "        if init_prob[item] != 0:        \n",
    "            init_prob[item] = init_prob[item] / init_sum\n",
    "        else:\n",
    "            init_prob[item] = 1/init_sum\n",
    "\n",
    "    # finalize tran_prob by dividing by number of transitions;\n",
    "    # if there's a zero in the transition, act as if there's at least half a value out of the trans_sum:\n",
    "    # trans_sum = total_letters - init_sum\n",
    "    for start_letter in trans_prob:\n",
    "        trans_sum =sum(trans_prob[start_letter].values())\n",
    "        # trans_sum = 1\n",
    "        # print(trans_sum)\n",
    "        for transition in trans_prob[start_letter]:\n",
    "            if trans_prob[start_letter][transition] == 0:\n",
    "                try:\n",
    "                    trans_prob[start_letter][transition] = .1/ trans_sum\n",
    "                except:\n",
    "                    trans_prob[start_letter][transition] = 0.0001\n",
    "\n",
    "                # trans_sum += 0.5\n",
    "            else:\n",
    "                trans_prob[start_letter][transition] = trans_prob[start_letter][transition]/trans_sum\n",
    "    \n",
    "\n",
    "    # finalize letter_dict:\n",
    "    sumletters =  sum(letter_dict.values())\n",
    "    # sumletters = 1\n",
    "    for letter in letter_dict:\n",
    "        if letter_dict[letter] == 0:\n",
    "            letter_dict[letter] = .1/ sumletters\n",
    "        else:\n",
    "            letter_dict[letter] = letter_dict[letter] /sumletters\n",
    "    # return init_prob,trans_prob,letter_dict\n",
    "    return letter_dict,trans_prob\n",
    "\n",
    "# init_prob,trans_prob ,letter_dict= train(ax)\n",
    "init_prob,trans_prob= train(ax)\n",
    "# init_prob\n",
    "trans_prob['I']\n",
    "sum(trans_prob['T'].values())\n",
    "# letter_dict\n",
    "# (init_prob['i'])"
   ]
  },
  {
   "cell_type": "code",
   "execution_count": 21,
   "metadata": {},
   "outputs": [
    {
     "output_type": "execute_result",
     "data": {
      "text/plain": [
       "{'A': 0.002369747862598132,\n",
       " 'B': 0.001302829557262743,\n",
       " 'C': 0.0016738580118820956,\n",
       " 'D': 0.0008380167115083358,\n",
       " 'E': 0.000655282176203951,\n",
       " 'F': 0.0009076298678147681,\n",
       " 'G': 0.0007050749199509131,\n",
       " 'H': 0.0014135338127778333,\n",
       " 'I': 0.002162600380116839,\n",
       " 'J': 0.0005929203903461055,\n",
       " 'K': 0.00031446776512037637,\n",
       " 'L': 0.0006574575873385271,\n",
       " 'M': 0.0014807298456014032,\n",
       " 'N': 0.000757043074832451,\n",
       " 'O': 0.0006697849171011245,\n",
       " 'P': 0.001096890636522881,\n",
       " 'Q': 4.810075730895841e-05,\n",
       " 'R': 0.0007700955416399071,\n",
       " 'S': 0.002121750993256467,\n",
       " 'T': 0.0031799676540535523,\n",
       " 'U': 0.00037682955097822194,\n",
       " 'V': 0.00022793474443390848,\n",
       " 'W': 0.001174963725019331,\n",
       " 'X': 1.2569042110883607e-05,\n",
       " 'Y': 0.0002699926930357113,\n",
       " 'Z': 2.2962673087191202e-05,\n",
       " 'a': 0.0755991626117406,\n",
       " 'b': 0.013388205259225617,\n",
       " 'c': 0.02954474204337335,\n",
       " 'd': 0.0360494630481039,\n",
       " 'e': 0.12033890971777908,\n",
       " 'f': 0.022187018161540714,\n",
       " 'g': 0.017591099571226464,\n",
       " 'h': 0.0488290366143448,\n",
       " 'i': 0.06925977285323782,\n",
       " 'j': 0.0009675745301897515,\n",
       " 'k': 0.005339184061294384,\n",
       " 'l': 0.03909624719825174,\n",
       " 'm': 0.023249343932258665,\n",
       " 'n': 0.0682250022902245,\n",
       " 'o': 0.07293210856075041,\n",
       " 'p': 0.019059743799413557,\n",
       " 'q': 0.001047339605124205,\n",
       " 'r': 0.05959055378474404,\n",
       " 's': 0.062082124670878425,\n",
       " 't': 0.08668892515111251,\n",
       " 'u': 0.02555673000899895,\n",
       " 'v': 0.009677679000683804,\n",
       " 'w': 0.015950114438711298,\n",
       " 'x': 0.00203642653431143,\n",
       " 'y': 0.01603181321243204,\n",
       " 'z': 0.0009194737728807931,\n",
       " '0': 0.0010628091954145234,\n",
       " '1': 0.0012370837985288903,\n",
       " '2': 0.0006279686808476079,\n",
       " '3': 0.000412602978524583,\n",
       " '4': 0.00034758235683558894,\n",
       " '5': 0.0005112216166253621,\n",
       " '6': 0.00034661550744244406,\n",
       " '7': 0.00025283111630738947,\n",
       " '8': 0.0003011735859646341,\n",
       " '9': 0.0005073542190527824,\n",
       " '(': 0.0005709245666520591,\n",
       " ')': 0.0005784176494489321,\n",
       " ',': 0.011593249360852122,\n",
       " '.': 0.010644286681480411,\n",
       " '-': 0.00309754374328795,\n",
       " '!': 0.0001844265217423883,\n",
       " '?': 0.0006830790962568668,\n",
       " '\"': 2.417123482862232e-08,\n",
       " \"'\": 2.417123482862232e-08,\n",
       " ' ': 2.417123482862232e-08}"
      ]
     },
     "metadata": {},
     "execution_count": 21
    }
   ],
   "source": [
    "init_prob"
   ]
  },
  {
   "cell_type": "code",
   "execution_count": 22,
   "metadata": {},
   "outputs": [
    {
     "output_type": "execute_result",
     "data": {
      "text/plain": [
       "'h'"
      ]
     },
     "metadata": {},
     "execution_count": 22
    }
   ],
   "source": [
    "max(trans_prob['T'], key = trans_prob['T'].get)"
   ]
  },
  {
   "cell_type": "code",
   "execution_count": null,
   "metadata": {},
   "outputs": [],
   "source": []
  },
  {
   "cell_type": "code",
   "execution_count": null,
   "metadata": {},
   "outputs": [],
   "source": []
  },
  {
   "cell_type": "code",
   "execution_count": null,
   "metadata": {},
   "outputs": [],
   "source": []
  }
 ]
}