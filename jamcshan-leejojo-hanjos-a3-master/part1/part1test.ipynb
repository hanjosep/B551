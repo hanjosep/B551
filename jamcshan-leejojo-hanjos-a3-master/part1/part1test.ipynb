{
 "metadata": {
  "language_info": {
   "codemirror_mode": {
    "name": "ipython",
    "version": 3
   },
   "file_extension": ".py",
   "mimetype": "text/x-python",
   "name": "python",
   "nbconvert_exporter": "python",
   "pygments_lexer": "ipython3",
   "version": "3.8.5-final"
  },
  "orig_nbformat": 2,
  "kernelspec": {
   "name": "python3",
   "display_name": "Python 3.8.5 64-bit",
   "metadata": {
    "interpreter": {
     "hash": "4fedbdb6e668446f3c96061a3e0973608a7182bb8999eeda9ee69679a98fef9b"
    }
   }
  }
 },
 "nbformat": 4,
 "nbformat_minor": 2,
 "cells": [
  {
   "cell_type": "code",
   "execution_count": 1,
   "metadata": {},
   "outputs": [],
   "source": [
    "def read_data(fname):\n",
    "    exemplars = []\n",
    "    file = open(fname, 'r');\n",
    "    for line in file:\n",
    "        data = tuple([w.lower() for w in line.split()])\n",
    "        exemplars += [ (data[0::2], data[1::2]), ]\n",
    "\n",
    "    return exemplars"
   ]
  },
  {
   "cell_type": "code",
   "execution_count": 2,
   "metadata": {},
   "outputs": [
    {
     "output_type": "execute_result",
     "data": {
      "text/plain": [
       "(('poet',\n",
       "  'twisted',\n",
       "  'again',\n",
       "  'and',\n",
       "  \"nick's\",\n",
       "  'knuckles',\n",
       "  'scraped',\n",
       "  'on',\n",
       "  'the',\n",
       "  'air',\n",
       "  'tank',\n",
       "  ',',\n",
       "  'ripping',\n",
       "  'off',\n",
       "  'the',\n",
       "  'skin',\n",
       "  '.'),\n",
       " ('noun',\n",
       "  'verb',\n",
       "  'adv',\n",
       "  'conj',\n",
       "  'noun',\n",
       "  'noun',\n",
       "  'verb',\n",
       "  'adp',\n",
       "  'det',\n",
       "  'noun',\n",
       "  'noun',\n",
       "  '.',\n",
       "  'verb',\n",
       "  'prt',\n",
       "  'det',\n",
       "  'noun',\n",
       "  '.'))"
      ]
     },
     "metadata": {},
     "execution_count": 2
    }
   ],
   "source": [
    "aaa = read_data('bc.test.tiny')\n",
    "aaa[0]"
   ]
  },
  {
   "cell_type": "code",
   "execution_count": 3,
   "metadata": {},
   "outputs": [
    {
     "output_type": "stream",
     "name": "stdout",
     "text": [
      "17\n18\n7\n42\n"
     ]
    },
    {
     "output_type": "execute_result",
     "data": {
      "text/plain": [
       "{'adj': {'free': 0.023809523809523808},\n",
       " 'adv': {'again': 0.023809523809523808, 'desperately': 0.023809523809523808},\n",
       " 'adp': {'on': 0.023809523809523808,\n",
       "  'in': 0.023809523809523808,\n",
       "  'of': 0.023809523809523808},\n",
       " 'conj': {'and': 0.023809523809523808},\n",
       " 'det': {'the': 0.09523809523809523, 'his': 0.023809523809523808},\n",
       " 'noun': {'poet': 0.023809523809523808,\n",
       "  \"nick's\": 0.023809523809523808,\n",
       "  'knuckles': 0.023809523809523808,\n",
       "  'air': 0.047619047619047616,\n",
       "  'tank': 0.023809523809523808,\n",
       "  'skin': 0.023809523809523808,\n",
       "  'nick': 0.023809523809523808,\n",
       "  'hand': 0.023809523809523808,\n",
       "  \"poet's\": 0.023809523809523808,\n",
       "  'neck': 0.023809523809523808,\n",
       "  'bend': 0.023809523809523808,\n",
       "  'elbow': 0.023809523809523808,\n",
       "  'hose': 0.023809523809523808},\n",
       " 'num': {'one': 0.023809523809523808},\n",
       " 'pron': {},\n",
       " 'prt': {'off': 0.023809523809523808, 'up': 0.023809523809523808},\n",
       " 'verb': {'twisted': 0.023809523809523808,\n",
       "  'scraped': 0.023809523809523808,\n",
       "  'ripping': 0.023809523809523808,\n",
       "  'flashed': 0.023809523809523808,\n",
       "  'catching': 0.023809523809523808,\n",
       "  'was': 0.023809523809523808},\n",
       " 'x': {},\n",
       " '.': {',': 0.07142857142857142,\n",
       "  '.': 0.047619047619047616,\n",
       "  '!': 0.047619047619047616}}"
      ]
     },
     "metadata": {},
     "execution_count": 3
    }
   ],
   "source": [
    "# each data returns a list, each element = each sentence\n",
    "# each sentence = (list of words, list of pos)\n",
    "# map each word and parts of speech into a dictionary\n",
    "#  \n",
    "def map_data(data):\n",
    "    # TODO: properly apply length of the corpus.\n",
    "    # e.g. there's 3 sentences in bc.test.tiny. add up the length of all of the words found in the corpus.\n",
    "    pos_dict = {'adj':{},'adv':{},'adp':{},'conj':{},'det':{},'noun':{},'num':{},'pron':{},'prt':{},'verb':{},'x':{},'.':{}}\n",
    "    total_length = 0\n",
    "    for spair in data:\n",
    "        sentence = spair[0]\n",
    "        pos_mapping = spair[1]\n",
    "        total_length += len(sentence)\n",
    "        print(len(sentence))\n",
    "        for i in range(0, len(sentence)):\n",
    "            pos = pos_mapping[i]\n",
    "            word = sentence[i]\n",
    "            try:\n",
    "                pos_dict[pos][word] += 1\n",
    "            except:\n",
    "                pos_dict[pos][word] = 1\n",
    "            # pos_dict[pos][word] = 1\n",
    "    # total_length = print()\n",
    "    print(total_length)\n",
    "    for pos in pos_dict:\n",
    "        # print(pos)\n",
    "        for word in pos_dict[pos]:\n",
    "            pos_dict[pos][word] = pos_dict[pos][word]/total_length\n",
    "        # pos_dict[pos] = pos_dict[pos]/total_length\n",
    "    return pos_dict\n",
    "    # for sentence in data:\n",
    "    #     print('\\nnext sentence\\n')\n",
    "    #     for i in range(0, len(sentence[0])):\n",
    "    #         pos = sentence[1][i]\n",
    "    #         word = sentence[0][i]\n",
    "    #         pos_dict[pos][word] += 1./len()\n",
    "\n",
    "map_data(aaa)"
   ]
  },
  {
   "cell_type": "code",
   "execution_count": 23,
   "metadata": {},
   "outputs": [
    {
     "output_type": "stream",
     "name": "stdout",
     "text": [
      "['one', 'two', 'three']\n{'two': 0}\n{'three': 0}\n"
     ]
    },
    {
     "output_type": "execute_result",
     "data": {
      "text/plain": [
       "{'one': {'one': 0}, 'two': {'two': 0}, 'three': {'three': 0}}"
      ]
     },
     "metadata": {},
     "execution_count": 23
    }
   ],
   "source": [
    "# list of states => dictionary \n",
    "def build_trans(states):\n",
    "    # states = []\n",
    "    tdict = {}\n",
    "    for state in states:\n",
    "        tdict[state] = states\n",
    "    for key, val in tdict.items():\n",
    "        print(val)\n",
    "        for item in val:\n",
    "            tdict[item] = {item:0}\n",
    "    return tdict\n",
    "build_trans(['one','two','three'])"
   ]
  },
  {
   "cell_type": "code",
   "execution_count": 4,
   "metadata": {},
   "outputs": [
    {
     "output_type": "execute_result",
     "data": {
      "text/plain": [
       "[(('poet',\n",
       "   'twisted',\n",
       "   'again',\n",
       "   'and',\n",
       "   \"nick's\",\n",
       "   'knuckles',\n",
       "   'scraped',\n",
       "   'on',\n",
       "   'the',\n",
       "   'air',\n",
       "   'tank',\n",
       "   ',',\n",
       "   'ripping',\n",
       "   'off',\n",
       "   'the',\n",
       "   'skin',\n",
       "   '.'),\n",
       "  ('noun',\n",
       "   'verb',\n",
       "   'adv',\n",
       "   'conj',\n",
       "   'noun',\n",
       "   'noun',\n",
       "   'verb',\n",
       "   'adp',\n",
       "   'det',\n",
       "   'noun',\n",
       "   'noun',\n",
       "   '.',\n",
       "   'verb',\n",
       "   'prt',\n",
       "   'det',\n",
       "   'noun',\n",
       "   '.')),\n",
       " (('desperately',\n",
       "   ',',\n",
       "   'nick',\n",
       "   'flashed',\n",
       "   'one',\n",
       "   'hand',\n",
       "   'up',\n",
       "   ',',\n",
       "   'catching',\n",
       "   \"poet's\",\n",
       "   'neck',\n",
       "   'in',\n",
       "   'the',\n",
       "   'bend',\n",
       "   'of',\n",
       "   'his',\n",
       "   'elbow',\n",
       "   '.'),\n",
       "  ('adv',\n",
       "   '.',\n",
       "   'noun',\n",
       "   'verb',\n",
       "   'num',\n",
       "   'noun',\n",
       "   'prt',\n",
       "   '.',\n",
       "   'verb',\n",
       "   'noun',\n",
       "   'noun',\n",
       "   'adp',\n",
       "   'det',\n",
       "   'noun',\n",
       "   'adp',\n",
       "   'det',\n",
       "   'noun',\n",
       "   '.')),\n",
       " (('the', 'air', 'hose', 'was', 'free', '!', '!'),\n",
       "  ('det', 'noun', 'noun', 'verb', 'adj', '.', '.'))]"
      ]
     },
     "metadata": {},
     "execution_count": 4
    }
   ],
   "source": [
    "aaa"
   ]
  },
  {
   "cell_type": "code",
   "execution_count": 5,
   "metadata": {},
   "outputs": [
    {
     "output_type": "execute_result",
     "data": {
      "text/plain": [
       "{'noun': {'poet': 1.2}, 'verb': 1, 'ask': 0}"
      ]
     },
     "metadata": {},
     "execution_count": 5
    }
   ],
   "source": [
    "testdict= {'noun':{'poet':0.2}}\n",
    "testdict['noun']['poet'] += 1\n",
    "testdict['verb'] = 1\n",
    "try:\n",
    "    testdict['ask']\n",
    "except:\n",
    "    testdict['ask'] = 0\n",
    "testdict"
   ]
  },
  {
   "cell_type": "code",
   "execution_count": 6,
   "metadata": {},
   "outputs": [
    {
     "output_type": "stream",
     "name": "stdout",
     "text": [
      "poet noun\n"
     ]
    }
   ],
   "source": [
    "print(aaa[0][0][0],aaa[0][1][0])\n"
   ]
  },
  {
   "cell_type": "code",
   "execution_count": 37,
   "metadata": {},
   "outputs": [
    {
     "output_type": "stream",
     "name": "stdout",
     "text": [
      "Computed using brute force: {'rain': 0.4714689592197644, 'sun': 0.5285310407802356}\n{1: {'rain': 0.22, 'sun': 0.18}, 2: {'rain': 0.0948, 'sun': 0.07319999999999999}, 3: {'rain': 0.039288000000000003, 'sun': 0.05719199999999999}, 4: {'rain': 0.01818192, 'sun': 0.01682928}, 5: {'rain': 0.0080931552, 'sun': 0.0126430368}, 6: {'rain': 0.46, 'sun': 0.30000000000000004}}\ncomputed using Variable Elimination: {'rain': 0.32920319091515804, 'sun': 0.6707968090848418}\n"
     ]
    }
   ],
   "source": [
    "import copy\n",
    "\n",
    "# problem definition\n",
    "states = (\"rain\", \"sun\")\n",
    "trans = {\"rain\" : {\"rain\": 0.65, \"sun\": 0.35},\n",
    "         \"sun\" : {\"rain\" : 0.25, \"sun\": 0.75}}\n",
    "emission = {\"rain\": {\"yes\" : 0.6, \"no\" : 0.4},\n",
    "            \"sun\" : {\"yes\": 0.2, \"no\": 0.8}}\n",
    "initial = {\"rain\": 0.5, \"sun\": 0.5}\n",
    "observed = [\"yes\", \"yes\", \"no\", \"yes\", \"no\", \"no\", \"yes\"]\n",
    "\n",
    "M=5\n",
    "N=len(observed)\n",
    "\n",
    "###########################\n",
    "# To compute P(S_M | W_0, W_1, ..., W_(N-1)), we first compute P(S_M, W_0, ...).\n",
    "# Here's how to do this in the brute-force way.\n",
    "\n",
    "joint = {\"rain\" : 0, \"sun\" : 0}\n",
    "for s0 in states:\n",
    "    for s1 in states:\n",
    "        for s2 in states:\n",
    "            for s3 in states:\n",
    "                for s4 in states:\n",
    "                    for s5 in states:\n",
    "                        for s6 in states:\n",
    "                            joint[s2] += initial[s0] * trans[s0][s1] * trans[s1][s2] * trans[s2][s3]*  trans[s3][s4] * trans[s4][s5] * trans[s5][s6] * \\\n",
    "                                emission[s0][observed[0]] * emission[s1][observed[1]] * emission[s2][observed[2]] * emission[s3][observed[3]] * \\\n",
    "                                emission[s4][observed[4]] * emission[s5][observed[5]] * emission[s6][observed[6]]\n",
    "\n",
    "j_sum = joint[\"rain\"] + joint[\"sun\"]\n",
    "print(\"Computed using brute force: \" + str({ j:joint[j] / j_sum for j in joint}))\n",
    "\n",
    "#############################\n",
    "# obviously that's a big mess, and slow -- each every day requires another nested loop and 2x the computation time.\n",
    "# so instead compute using variable elimination!\n",
    "def ve(states, trans, emission, initial, observed, M):\n",
    "    tau = {}\n",
    "        \n",
    "    N=len(observed)\n",
    "    # First eliminate all variables before S_M -- e.g. S_0, S_1 ... S_(M-1)\n",
    "    for i in range(0, M):\n",
    "        tau[i+1] = { s:0 for s in states }\n",
    "        for s in states:\n",
    "            for s2 in states:\n",
    "                tau[i+1][s] += (tau[i][s2] if i > 0 else initial[s2]) * emission[s2][observed[i]] * trans[s2][s]\n",
    "        \n",
    "\n",
    "    # Now eliminate all variables after S_M -- e.g. S_(M+1), ..., S_(N-1)\n",
    "    for i in range(N-1, M, -1):\n",
    "        tau[i] = { s:0 for s in states }\n",
    "        for s in states:\n",
    "            for s2 in states:\n",
    "                tau[i][s] += (tau[i+1][s2] if i+1 < N else 1) * emission[s2][observed[i]] * trans[s][s2]\n",
    "\n",
    "    # Now compute P(S_M | W_0, W_1, ...)\n",
    "    joint = {}\n",
    "    for s in states:\n",
    "        joint[s] = tau[M][s] * tau[M+1][s] * emission[s][observed[M]]\n",
    "        # print(joint)\n",
    "    print(tau)\n",
    "    # print(joint)\n",
    "    return joint\n",
    "joint = ve(states, trans, emission, initial, observed, M)\n",
    "# j_sum = joint[\"rain\"] + joint[\"sun\"]\n",
    "j_sum = sum(joint.values())\n",
    "print(\"computed using Variable Elimination: \" + str({ j:joint[j] / j_sum for j in joint}))\n",
    "# joint\n",
    "\n",
    "    \n"
   ]
  },
  {
   "cell_type": "code",
   "execution_count": 22,
   "metadata": {},
   "outputs": [
    {
     "output_type": "execute_result",
     "data": {
      "text/plain": [
       "0.5499999999999999"
      ]
     },
     "metadata": {},
     "execution_count": 22
    }
   ],
   "source": [
    "r ={1: {'rain': 0.22, 'sun': 0.18}, 2: {'rain': 0.0948, 'sun': 0.07319999999999999}, 3: {'rain': 0.039288000000000003, 'sun': 0.05719199999999999}, 4: {'rain': 0.01818192, 'sun': 0.01682928}, 5: {'rain': 0.0080931552, 'sun': 0.0126430368}, 6: {'rain': 0.46, 'sun': 0.30000000000000004}}\n",
    "r[1]['rain'] / (r[1]['rain']+ r[1]['sun'])"
   ]
  },
  {
   "cell_type": "code",
   "execution_count": 15,
   "metadata": {},
   "outputs": [
    {
     "output_type": "execute_result",
     "data": {
      "text/plain": [
       "{1: {'rain': 0.22, 'sun': 0.18},\n",
       " 6: {'rain': 0.46, 'sun': 0.30000000000000004},\n",
       " 5: {'rain': 0.20360000000000003, 'sun': 0.22600000000000006},\n",
       " 4: {'rain': 0.11621600000000003, 'sun': 0.15596000000000004},\n",
       " 3: {'rain': 0.05624144000000002, 'sun': 0.04082640000000001},\n",
       " 2: {'rain': 0.02605416640000001, 'sun': 0.030119984000000006}}"
      ]
     },
     "metadata": {},
     "execution_count": 15
    }
   ],
   "source": [
    "{1: {'rain': 0.22, 'sun': 0.18}, 6: {'rain': 0.46, 'sun': 0.30000000000000004}, 5: {'rain': 0.20360000000000003, 'sun': 0.22600000000000006}, 4: {'rain': 0.11621600000000003, 'sun': 0.15596000000000004}, 3: {'rain': 0.05624144000000002, 'sun': 0.04082640000000001}, 2: {'rain': 0.02605416640000001, 'sun': 0.030119984000000006}}"
   ]
  }
 ]
}