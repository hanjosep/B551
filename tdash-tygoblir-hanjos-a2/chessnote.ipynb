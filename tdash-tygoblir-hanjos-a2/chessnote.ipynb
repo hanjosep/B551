{
 "metadata": {
  "language_info": {
   "codemirror_mode": {
    "name": "ipython",
    "version": 3
   },
   "file_extension": ".py",
   "mimetype": "text/x-python",
   "name": "python",
   "nbconvert_exporter": "python",
   "pygments_lexer": "ipython3",
   "version": "3.8.5-final"
  },
  "orig_nbformat": 2,
  "kernelspec": {
   "name": "Python 3.8.5 64-bit",
   "display_name": "Python 3.8.5 64-bit",
   "metadata": {
    "interpreter": {
     "hash": "4fedbdb6e668446f3c96061a3e0973608a7182bb8999eeda9ee69679a98fef9b"
    }
   }
  }
 },
 "nbformat": 4,
 "nbformat_minor": 2,
 "cells": [
  {
   "cell_type": "code",
   "execution_count": 10,
   "metadata": {},
   "outputs": [
    {
     "output_type": "stream",
     "name": "stdout",
     "text": [
      "a\nRNBQKBNR\nb\nPPPPPPPP\nc\n........\nd\n........\ne\n........\nf\n........\ng\npppppppp\nh\nrnbqkbnr\n"
     ]
    }
   ],
   "source": [
    "from string import ascii_lowercase\n",
    "start_board = 'RNBQKBNRPPPPPPPP................................pppppppprnbqkbnr'\n",
    "\n",
    "for row in range(0,8):\n",
    "    row_ind = row*8\n",
    "    print(ascii_lowercase[row])\n",
    "    print(start_board[row_ind:row_ind + 8])"
   ]
  },
  {
   "cell_type": "code",
   "execution_count": 9,
   "metadata": {},
   "outputs": [
    {
     "output_type": "stream",
     "name": "stdout",
     "text": [
      "a\nb\nc\nd\ne\nf\ng\nh\ni\nj\nk\nl\nm\nn\no\np\nq\nr\ns\nt\nu\nv\nw\nx\ny\nz\n"
     ]
    }
   ],
   "source": []
  }
 ]
}