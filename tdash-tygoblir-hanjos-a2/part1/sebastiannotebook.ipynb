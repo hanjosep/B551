{
 "metadata": {
  "language_info": {
   "codemirror_mode": {
    "name": "ipython",
    "version": 3
   },
   "file_extension": ".py",
   "mimetype": "text/x-python",
   "name": "python",
   "nbconvert_exporter": "python",
   "pygments_lexer": "ipython3",
   "version": "3.8.5-final"
  },
  "orig_nbformat": 2,
  "kernelspec": {
   "name": "Python 3.8.5 64-bit",
   "display_name": "Python 3.8.5 64-bit",
   "metadata": {
    "interpreter": {
     "hash": "4fedbdb6e668446f3c96061a3e0973608a7182bb8999eeda9ee69679a98fef9b"
    }
   }
  }
 },
 "nbformat": 4,
 "nbformat_minor": 2,
 "cells": [
  {
   "cell_type": "code",
   "execution_count": 69,
   "metadata": {},
   "outputs": [
    {
     "output_type": "stream",
     "name": "stdout",
     "text": [
      "0\n1\n2\n3\n4\n[0, 1, 2, 3, 4]\n0\n1\n2\n3\n[0, 1, 2, 3]\n0\n1\n2\n4\n[0, 1, 2, 4]\n0\n1\n2\n[0, 1, 2]\n0\n1\n3\n4\n[0, 1, 3, 4]\n0\n1\n3\n[0, 1, 3]\n0\n1\n4\n[0, 1, 4]\n0\n1\n[0, 1]\n0\n2\n3\n4\n[0, 2, 3, 4]\n0\n2\n3\n[0, 2, 3]\n0\n2\n4\n[0, 2, 4]\n0\n2\n[0, 2]\n0\n3\n4\n[0, 3, 4]\n0\n3\n[0, 3]\n0\n4\n[0, 4]\n0\n[0]\n1\n2\n3\n4\n[1, 2, 3, 4]\n1\n2\n3\n[1, 2, 3]\n1\n2\n4\n[1, 2, 4]\n1\n2\n[1, 2]\n1\n3\n4\n[1, 3, 4]\n1\n3\n[1, 3]\n1\n4\n[1, 4]\n1\n[1]\n2\n3\n4\n[2, 3, 4]\n2\n3\n[2, 3]\n2\n4\n[2, 4]\n2\n[2]\n3\n4\n[3, 4]\n3\n[3]\n4\n[4]\n[]\n"
     ]
    }
   ],
   "source": [
    "from itertools import permutations,product\n",
    "import numpy as np\n",
    "choices=  [True,False]\n",
    "combo5 = [(a,b,c,d,e) for a in choices for b in choices for c in choices for d in choices for e in choices]\n",
    "# perm =product(((True,False),)*3)\n",
    "combo5\n",
    "roll = [1,2,3,4,5]\n",
    "csam = [(True, True, True, True, True),\n",
    "        (True, True, True, True, False),\n",
    "        (True, True, True, False, True)]\n",
    "\n",
    "maxval = (0,())\n",
    "from SebastianState import Dice\n",
    "from SebastianState import Scorecard\n",
    "import random\n",
    "def score(dice):\n",
    "        counts = [dice.count(i) for i in range(1,7)]\n",
    "        maxscore = (0,'')\n",
    "        for category in list(set(Scorecard.Categories)):\n",
    "                # print(list(set(Scorecard.Categories)))\n",
    "                if category in Scorecard.Numbers:\n",
    "                        score = counts[Scorecard.Numbers[category]-1] * Scorecard.Numbers[category] + 5\n",
    "                elif category == \"company\":\n",
    "                        score = 40 if sorted(dice) == [1,2,3,4,5] or sorted(dice) == [2,3,4,5,6] else 0\n",
    "                elif category == \"prattle\":\n",
    "                        score = 30 if (len(set([1,2,3,4]) - set(dice)) == 0 or len(set([2,3,4,5]) - set(dice)) == 0 or len(set([3,4,5,6]) - set(dice)) == 0) else 0\n",
    "                elif category == \"squadron\":\n",
    "                        score = 25 if (2 in counts) and (3 in counts) else 0\n",
    "                elif category == \"triplex\":\n",
    "                        score = sum(dice) if max(counts) >= 3 else 0\n",
    "                elif category == \"quadrupla\":\n",
    "                        score = sum(dice) if max(counts) >= 4 else 0\n",
    "                elif category == \"quintuplicatam\":\n",
    "                        score = 50 if max(counts) == 5 else 0\n",
    "                elif category == \"pandemonium\":\n",
    "                        score = sum(dice)\n",
    "                else:\n",
    "                        print(\"Error: unknown category\")\n",
    "                if score > maxscore[0]:\n",
    "                        maxscore = (score,category)\n",
    "        return maxscore[0]\n",
    "score([1,2,3,4,5])\n",
    "die = [1,2,3,4,5,6]\n",
    "for c in combo5:\n",
    "        reroll = []\n",
    "        expect = 0\n",
    "        for s in range(0,len(combo5[0])):\n",
    "                if c[s]:\n",
    "                        reroll.append(s)\n",
    "        for item in reroll:\n",
    "                print(item)\n",
    "\n",
    "        print(reroll)\n",
    "        # for \n"
   ]
  },
  {
   "cell_type": "code",
   "execution_count": 70,
   "metadata": {},
   "outputs": [
    {
     "output_type": "stream",
     "name": "stdout",
     "text": [
      "(False, False, False, False, False) 29.0\n(False, False, False, False, True) 32.5\n(False, False, False, True, False) 26.5\n(False, False, False, True, True) 26.52777777777778\n(False, False, True, False, False) 26.5\n(False, False, True, False, True) 26.52777777777778\n(False, False, True, True, False) 24.333333333333332\n(False, False, True, True, True) 23.22222222222222\n(False, True, False, False, False) 26.5\n(False, True, False, False, True) 26.52777777777778\n(False, True, False, True, False) 24.333333333333332\n(False, True, False, True, True) 23.22222222222222\n(False, True, True, False, False) 24.333333333333332\n(False, True, True, False, True) 23.22222222222222\n(False, True, True, True, False) 22.958333333333332\n(False, True, True, True, True) 21.36033950617284\n(True, False, False, False, False) 26.5\n(True, False, False, False, True) 26.52777777777778\n(True, False, False, True, False) 24.333333333333332\n(True, False, False, True, True) 23.22222222222222\n(True, False, True, False, False) 24.333333333333332\n(True, False, True, False, True) 23.22222222222222\n(True, False, True, True, False) 22.958333333333332\n(True, False, True, True, True) 21.36033950617284\n(True, True, False, False, False) 24.333333333333332\n(True, True, False, False, True) 23.22222222222222\n(True, True, False, True, False) 22.958333333333332\n(True, True, False, True, True) 21.36033950617284\n(True, True, True, False, False) 22.958333333333332\n(True, True, True, False, True) 21.36033950617284\n(True, True, True, True, False) 21.21759259259259\n(True, True, True, True, True) 20.139531893004115\n"
     ]
    },
    {
     "output_type": "execute_result",
     "data": {
      "text/plain": [
       "((False, False, False, False, True), 32.5)"
      ]
     },
     "metadata": {},
     "execution_count": 70
    }
   ],
   "source": [
    "roll = [6,6,6,6,5]\n",
    "def expectation_of_reroll(roll,reroll):\n",
    "        exp = 0\n",
    "        outcome_count = 0\n",
    "        for outcome_a in (roll[0],) if not reroll[0] else range(1,7):\n",
    "            for outcome_b in (roll[1],) if not reroll[1] else range(1,7):\n",
    "                for outcome_c in (roll[2],) if not reroll[2] else range(1,7):\n",
    "                    for outcome_d in (roll[3],) if not reroll[3] else range(1,7):\n",
    "                        for outcome_e in (roll[4],) if not reroll[4] else range(1,7):\n",
    "                            var = [outcome_a,outcome_b,outcome_c,outcome_d,outcome_e]\n",
    "                            exp += score(var)\n",
    "                            outcome_count += 1\n",
    "        return exp * 1.0 / outcome_count\n",
    "expectation_of_reroll(roll, (False,False,False,False,False))\n",
    "\n",
    "def max_layer(roll):\n",
    "    max_so_far = (0,0)\n",
    "    # print(roll)\n",
    "    for roll_a in (False,True):\n",
    "        for roll_b in (False,True):\n",
    "            for roll_c in (False,True):\n",
    "                for roll_d in (False,True):\n",
    "                    for roll_e in (False,True):\n",
    "                        this_reroll = (roll_a,roll_b,roll_c,roll_d,roll_e)\n",
    "                        exp_score = expectation_of_reroll(roll,this_reroll)\n",
    "                        print(this_reroll,exp_score)\n",
    "                        if exp_score > max_so_far[1]:\n",
    "                            max_so_far = (this_reroll, exp_score)\n",
    "                        if max_so_far[1] > 33:\n",
    "                            return max_so_far\n",
    "    return max_so_far\n",
    "\n",
    "max_layer(roll)\n"
   ]
  },
  {
   "cell_type": "code",
   "execution_count": 85,
   "metadata": {},
   "outputs": [
    {
     "output_type": "execute_result",
     "data": {
      "text/plain": [
       "True"
      ]
     },
     "metadata": {},
     "execution_count": 85
    }
   ],
   "source": [
    "int(29.5) < 29.5"
   ]
  },
  {
   "cell_type": "code",
   "execution_count": 81,
   "metadata": {},
   "outputs": [
    {
     "output_type": "execute_result",
     "data": {
      "text/plain": [
       "[4]"
      ]
     },
     "metadata": {},
     "execution_count": 81
    }
   ],
   "source": [
    "def chose( order):\n",
    "    return [i for i in range(0,len(order[0])) if order[0][i] == True]\n",
    "chose(((False, False, False, False, True), 32.5))"
   ]
  },
  {
   "cell_type": "code",
   "execution_count": 55,
   "metadata": {},
   "outputs": [
    {
     "output_type": "execute_result",
     "data": {
      "text/plain": [
       "10"
      ]
     },
     "metadata": {},
     "execution_count": 55
    }
   ],
   "source": [
    "import math\n",
    "math.comb(5,3)\n",
    "# math.pow(6,6)"
   ]
  },
  {
   "cell_type": "code",
   "execution_count": 50,
   "metadata": {},
   "outputs": [
    {
     "output_type": "execute_result",
     "data": {
      "text/plain": [
       "5"
      ]
     },
     "metadata": {},
     "execution_count": 50
    }
   ],
   "source": [
    "from math import factorial\n",
    "\n",
    "def calculate_combinations(n, r):\n",
    "    return factorial(n) // factorial(r) // factorial(n-r)\n",
    "calculate_combinations(5,4)"
   ]
  },
  {
   "cell_type": "code",
   "execution_count": 20,
   "metadata": {},
   "outputs": [
    {
     "output_type": "execute_result",
     "data": {
      "text/plain": [
       "[0, 2, 3]"
      ]
     },
     "metadata": {},
     "execution_count": 20
    }
   ],
   "source": [
    "\n",
    "x= [0,1,2,3]\n",
    "x[:1] + x[2:]"
   ]
  }
 ]
}